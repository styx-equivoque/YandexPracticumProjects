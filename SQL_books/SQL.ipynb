{
 "cells": [
  {
   "cell_type": "markdown",
   "metadata": {},
   "source": [
    "# Анализ сервиса для чтения книг"
   ]
  },
  {
   "cell_type": "markdown",
   "metadata": {},
   "source": [
    "## Цель исследования"
   ]
  },
  {
   "cell_type": "markdown",
   "metadata": {},
   "source": [
    "Коронавирус застал мир врасплох, изменив привычный порядок вещей. В свободное время жители городов больше не выходят на улицу, не посещают кафе и торговые центры. Наша компания купила крупный сервис для чтения книг по подписке. Первая **задача аналитика — проанализировать базу данных.** В ней — информация о книгах, издательствах, авторах, а также пользовательские обзоры книг. Эти данные помогут сформулировать ценностное предложение для нового продукта."
   ]
  },
  {
   "cell_type": "code",
   "execution_count": 1,
   "metadata": {},
   "outputs": [],
   "source": [
    "# импортируем библиотеки\n",
    "import pandas as pd\n",
    "from sqlalchemy import create_engine\n",
    "pd.set_option('display.max_colwidth', None)\n",
    "\n",
    "# устанавливаем параметры\n",
    "db_config = {'user': 'user', # имя пользователя\n",
    "'pwd': 'pwd', # пароль\n",
    "'host': 'host',\n",
    "'port': 8888, # порт подключения\n",
    "'db': 'db'} # название базы данных\n",
    "connection_string = 'postgresql://{}:{}@{}:{}/{}'.format(db_config['user'],\n",
    "db_config['pwd'],\n",
    "db_config['host'],\n",
    "db_config['port'],\n",
    "db_config['db'])\n",
    "# сохраняем коннектор\n",
    "engine = create_engine(connection_string, connect_args={'sslmode':'require'})"
   ]
  },
  {
   "cell_type": "markdown",
   "metadata": {},
   "source": [
    "## Исследование таблиц"
   ]
  },
  {
   "cell_type": "code",
   "execution_count": 2,
   "metadata": {},
   "outputs": [
    {
     "data": {
      "text/html": [
       "<div>\n",
       "<style scoped>\n",
       "    .dataframe tbody tr th:only-of-type {\n",
       "        vertical-align: middle;\n",
       "    }\n",
       "\n",
       "    .dataframe tbody tr th {\n",
       "        vertical-align: top;\n",
       "    }\n",
       "\n",
       "    .dataframe thead th {\n",
       "        text-align: right;\n",
       "    }\n",
       "</style>\n",
       "<table border=\"1\" class=\"dataframe\">\n",
       "  <thead>\n",
       "    <tr style=\"text-align: right;\">\n",
       "      <th></th>\n",
       "      <th>book_id</th>\n",
       "      <th>author_id</th>\n",
       "      <th>title</th>\n",
       "      <th>num_pages</th>\n",
       "      <th>publication_date</th>\n",
       "      <th>publisher_id</th>\n",
       "    </tr>\n",
       "  </thead>\n",
       "  <tbody>\n",
       "    <tr>\n",
       "      <th>0</th>\n",
       "      <td>1</td>\n",
       "      <td>546</td>\n",
       "      <td>'Salem's Lot</td>\n",
       "      <td>594</td>\n",
       "      <td>2005-11-01</td>\n",
       "      <td>93</td>\n",
       "    </tr>\n",
       "    <tr>\n",
       "      <th>1</th>\n",
       "      <td>2</td>\n",
       "      <td>465</td>\n",
       "      <td>1 000 Places to See Before You Die</td>\n",
       "      <td>992</td>\n",
       "      <td>2003-05-22</td>\n",
       "      <td>336</td>\n",
       "    </tr>\n",
       "    <tr>\n",
       "      <th>2</th>\n",
       "      <td>3</td>\n",
       "      <td>407</td>\n",
       "      <td>13 Little Blue Envelopes (Little Blue Envelope  #1)</td>\n",
       "      <td>322</td>\n",
       "      <td>2010-12-21</td>\n",
       "      <td>135</td>\n",
       "    </tr>\n",
       "    <tr>\n",
       "      <th>3</th>\n",
       "      <td>4</td>\n",
       "      <td>82</td>\n",
       "      <td>1491: New Revelations of the Americas Before Columbus</td>\n",
       "      <td>541</td>\n",
       "      <td>2006-10-10</td>\n",
       "      <td>309</td>\n",
       "    </tr>\n",
       "    <tr>\n",
       "      <th>4</th>\n",
       "      <td>5</td>\n",
       "      <td>125</td>\n",
       "      <td>1776</td>\n",
       "      <td>386</td>\n",
       "      <td>2006-07-04</td>\n",
       "      <td>268</td>\n",
       "    </tr>\n",
       "  </tbody>\n",
       "</table>\n",
       "</div>"
      ],
      "text/plain": [
       "   book_id  author_id                                                  title  \\\n",
       "0        1        546                                           'Salem's Lot   \n",
       "1        2        465                     1 000 Places to See Before You Die   \n",
       "2        3        407    13 Little Blue Envelopes (Little Blue Envelope  #1)   \n",
       "3        4         82  1491: New Revelations of the Americas Before Columbus   \n",
       "4        5        125                                                   1776   \n",
       "\n",
       "   num_pages publication_date  publisher_id  \n",
       "0        594       2005-11-01            93  \n",
       "1        992       2003-05-22           336  \n",
       "2        322       2010-12-21           135  \n",
       "3        541       2006-10-10           309  \n",
       "4        386       2006-07-04           268  "
      ]
     },
     "metadata": {},
     "output_type": "display_data"
    },
    {
     "data": {
      "text/html": [
       "<div>\n",
       "<style scoped>\n",
       "    .dataframe tbody tr th:only-of-type {\n",
       "        vertical-align: middle;\n",
       "    }\n",
       "\n",
       "    .dataframe tbody tr th {\n",
       "        vertical-align: top;\n",
       "    }\n",
       "\n",
       "    .dataframe thead th {\n",
       "        text-align: right;\n",
       "    }\n",
       "</style>\n",
       "<table border=\"1\" class=\"dataframe\">\n",
       "  <thead>\n",
       "    <tr style=\"text-align: right;\">\n",
       "      <th></th>\n",
       "      <th>author_id</th>\n",
       "      <th>author</th>\n",
       "    </tr>\n",
       "  </thead>\n",
       "  <tbody>\n",
       "    <tr>\n",
       "      <th>0</th>\n",
       "      <td>1</td>\n",
       "      <td>A.S. Byatt</td>\n",
       "    </tr>\n",
       "    <tr>\n",
       "      <th>1</th>\n",
       "      <td>2</td>\n",
       "      <td>Aesop/Laura Harris/Laura Gibbs</td>\n",
       "    </tr>\n",
       "    <tr>\n",
       "      <th>2</th>\n",
       "      <td>3</td>\n",
       "      <td>Agatha Christie</td>\n",
       "    </tr>\n",
       "    <tr>\n",
       "      <th>3</th>\n",
       "      <td>4</td>\n",
       "      <td>Alan Brennert</td>\n",
       "    </tr>\n",
       "    <tr>\n",
       "      <th>4</th>\n",
       "      <td>5</td>\n",
       "      <td>Alan Moore/David   Lloyd</td>\n",
       "    </tr>\n",
       "  </tbody>\n",
       "</table>\n",
       "</div>"
      ],
      "text/plain": [
       "   author_id                          author\n",
       "0          1                      A.S. Byatt\n",
       "1          2  Aesop/Laura Harris/Laura Gibbs\n",
       "2          3                 Agatha Christie\n",
       "3          4                   Alan Brennert\n",
       "4          5        Alan Moore/David   Lloyd"
      ]
     },
     "metadata": {},
     "output_type": "display_data"
    },
    {
     "data": {
      "text/html": [
       "<div>\n",
       "<style scoped>\n",
       "    .dataframe tbody tr th:only-of-type {\n",
       "        vertical-align: middle;\n",
       "    }\n",
       "\n",
       "    .dataframe tbody tr th {\n",
       "        vertical-align: top;\n",
       "    }\n",
       "\n",
       "    .dataframe thead th {\n",
       "        text-align: right;\n",
       "    }\n",
       "</style>\n",
       "<table border=\"1\" class=\"dataframe\">\n",
       "  <thead>\n",
       "    <tr style=\"text-align: right;\">\n",
       "      <th></th>\n",
       "      <th>publisher_id</th>\n",
       "      <th>publisher</th>\n",
       "    </tr>\n",
       "  </thead>\n",
       "  <tbody>\n",
       "    <tr>\n",
       "      <th>0</th>\n",
       "      <td>1</td>\n",
       "      <td>Ace</td>\n",
       "    </tr>\n",
       "    <tr>\n",
       "      <th>1</th>\n",
       "      <td>2</td>\n",
       "      <td>Ace Book</td>\n",
       "    </tr>\n",
       "    <tr>\n",
       "      <th>2</th>\n",
       "      <td>3</td>\n",
       "      <td>Ace Books</td>\n",
       "    </tr>\n",
       "    <tr>\n",
       "      <th>3</th>\n",
       "      <td>4</td>\n",
       "      <td>Ace Hardcover</td>\n",
       "    </tr>\n",
       "    <tr>\n",
       "      <th>4</th>\n",
       "      <td>5</td>\n",
       "      <td>Addison Wesley Publishing Company</td>\n",
       "    </tr>\n",
       "  </tbody>\n",
       "</table>\n",
       "</div>"
      ],
      "text/plain": [
       "   publisher_id                          publisher\n",
       "0             1                                Ace\n",
       "1             2                           Ace Book\n",
       "2             3                          Ace Books\n",
       "3             4                      Ace Hardcover\n",
       "4             5  Addison Wesley Publishing Company"
      ]
     },
     "metadata": {},
     "output_type": "display_data"
    },
    {
     "data": {
      "text/html": [
       "<div>\n",
       "<style scoped>\n",
       "    .dataframe tbody tr th:only-of-type {\n",
       "        vertical-align: middle;\n",
       "    }\n",
       "\n",
       "    .dataframe tbody tr th {\n",
       "        vertical-align: top;\n",
       "    }\n",
       "\n",
       "    .dataframe thead th {\n",
       "        text-align: right;\n",
       "    }\n",
       "</style>\n",
       "<table border=\"1\" class=\"dataframe\">\n",
       "  <thead>\n",
       "    <tr style=\"text-align: right;\">\n",
       "      <th></th>\n",
       "      <th>rating_id</th>\n",
       "      <th>book_id</th>\n",
       "      <th>username</th>\n",
       "      <th>rating</th>\n",
       "    </tr>\n",
       "  </thead>\n",
       "  <tbody>\n",
       "    <tr>\n",
       "      <th>0</th>\n",
       "      <td>1</td>\n",
       "      <td>1</td>\n",
       "      <td>ryanfranco</td>\n",
       "      <td>4</td>\n",
       "    </tr>\n",
       "    <tr>\n",
       "      <th>1</th>\n",
       "      <td>2</td>\n",
       "      <td>1</td>\n",
       "      <td>grantpatricia</td>\n",
       "      <td>2</td>\n",
       "    </tr>\n",
       "    <tr>\n",
       "      <th>2</th>\n",
       "      <td>3</td>\n",
       "      <td>1</td>\n",
       "      <td>brandtandrea</td>\n",
       "      <td>5</td>\n",
       "    </tr>\n",
       "    <tr>\n",
       "      <th>3</th>\n",
       "      <td>4</td>\n",
       "      <td>2</td>\n",
       "      <td>lorichen</td>\n",
       "      <td>3</td>\n",
       "    </tr>\n",
       "    <tr>\n",
       "      <th>4</th>\n",
       "      <td>5</td>\n",
       "      <td>2</td>\n",
       "      <td>mariokeller</td>\n",
       "      <td>2</td>\n",
       "    </tr>\n",
       "  </tbody>\n",
       "</table>\n",
       "</div>"
      ],
      "text/plain": [
       "   rating_id  book_id       username  rating\n",
       "0          1        1     ryanfranco       4\n",
       "1          2        1  grantpatricia       2\n",
       "2          3        1   brandtandrea       5\n",
       "3          4        2       lorichen       3\n",
       "4          5        2    mariokeller       2"
      ]
     },
     "metadata": {},
     "output_type": "display_data"
    },
    {
     "data": {
      "text/html": [
       "<div>\n",
       "<style scoped>\n",
       "    .dataframe tbody tr th:only-of-type {\n",
       "        vertical-align: middle;\n",
       "    }\n",
       "\n",
       "    .dataframe tbody tr th {\n",
       "        vertical-align: top;\n",
       "    }\n",
       "\n",
       "    .dataframe thead th {\n",
       "        text-align: right;\n",
       "    }\n",
       "</style>\n",
       "<table border=\"1\" class=\"dataframe\">\n",
       "  <thead>\n",
       "    <tr style=\"text-align: right;\">\n",
       "      <th></th>\n",
       "      <th>review_id</th>\n",
       "      <th>book_id</th>\n",
       "      <th>username</th>\n",
       "      <th>text</th>\n",
       "    </tr>\n",
       "  </thead>\n",
       "  <tbody>\n",
       "    <tr>\n",
       "      <th>0</th>\n",
       "      <td>1</td>\n",
       "      <td>1</td>\n",
       "      <td>brandtandrea</td>\n",
       "      <td>Mention society tell send professor analysis. Over provide race technology continue these.</td>\n",
       "    </tr>\n",
       "    <tr>\n",
       "      <th>1</th>\n",
       "      <td>2</td>\n",
       "      <td>1</td>\n",
       "      <td>ryanfranco</td>\n",
       "      <td>Foot glass pretty audience hit themselves. Among admit investment argue security.</td>\n",
       "    </tr>\n",
       "    <tr>\n",
       "      <th>2</th>\n",
       "      <td>3</td>\n",
       "      <td>2</td>\n",
       "      <td>lorichen</td>\n",
       "      <td>Listen treat keep worry. Miss husband tax but person sport treatment industry. Kitchen decision deep the. Social party body the.</td>\n",
       "    </tr>\n",
       "    <tr>\n",
       "      <th>3</th>\n",
       "      <td>4</td>\n",
       "      <td>3</td>\n",
       "      <td>johnsonamanda</td>\n",
       "      <td>Finally month interesting blue could nature cultural bit. Prepare beat finish grow that smile teach. Dream me play near.</td>\n",
       "    </tr>\n",
       "    <tr>\n",
       "      <th>4</th>\n",
       "      <td>5</td>\n",
       "      <td>3</td>\n",
       "      <td>scotttamara</td>\n",
       "      <td>Nation purpose heavy give wait song will. List dinner another whole positive radio fast. Music staff many green.</td>\n",
       "    </tr>\n",
       "  </tbody>\n",
       "</table>\n",
       "</div>"
      ],
      "text/plain": [
       "   review_id  book_id       username  \\\n",
       "0          1        1   brandtandrea   \n",
       "1          2        1     ryanfranco   \n",
       "2          3        2       lorichen   \n",
       "3          4        3  johnsonamanda   \n",
       "4          5        3    scotttamara   \n",
       "\n",
       "                                                                                                                               text  \n",
       "0                                        Mention society tell send professor analysis. Over provide race technology continue these.  \n",
       "1                                                 Foot glass pretty audience hit themselves. Among admit investment argue security.  \n",
       "2  Listen treat keep worry. Miss husband tax but person sport treatment industry. Kitchen decision deep the. Social party body the.  \n",
       "3          Finally month interesting blue could nature cultural bit. Prepare beat finish grow that smile teach. Dream me play near.  \n",
       "4                  Nation purpose heavy give wait song will. List dinner another whole positive radio fast. Music staff many green.  "
      ]
     },
     "metadata": {},
     "output_type": "display_data"
    }
   ],
   "source": [
    "table = ['books', 'authors', 'publishers', 'ratings', 'reviews']\n",
    "\n",
    "for i in table:\n",
    "    query = '''\n",
    "        SELECT *\n",
    "        FROM {}\n",
    "        LIMIT 5\n",
    "    '''.format(i)\n",
    "    \n",
    "    data = pd.io.sql.read_sql(query, con = engine)\n",
    "    display(data)"
   ]
  },
  {
   "cell_type": "markdown",
   "metadata": {},
   "source": [
    "### Вывод"
   ]
  },
  {
   "cell_type": "markdown",
   "metadata": {},
   "source": [
    "В нашем распоряжении 5 таблиц:\n",
    "\n",
    "1. Таблица **books** содержит данные о книгах:\n",
    " * book_id — идентификатор книги;\n",
    " * author_id — идентификатор автора;\n",
    " * title — название книги;\n",
    " * num_pages — количество страниц;\n",
    " * publication_date — дата публикации книги;\n",
    " * publisher_id — идентификатор издателя.\n",
    "\n",
    "\n",
    "2. Таблица **authors** содержит данные об авторах:\n",
    " * author_id — идентификатор автора;\n",
    " * author — имя автора.\n",
    "\n",
    "\n",
    "3. Таблица **publishers** содержит данные об издательствах:\n",
    " * publisher_id — идентификатор издательства;\n",
    " * publisher — название издательства;\n",
    "\n",
    "\n",
    "4. Таблица **ratings** содержит данные о пользовательских оценках книг:\n",
    " * rating_id — идентификатор оценки;\n",
    " * book_id — идентификатор книги;\n",
    " * username — имя пользователя, оставившего оценку;\n",
    " * rating — оценка книги.\n",
    "\n",
    "\n",
    "5. Таблица **reviews** содержит данные о пользовательских обзорах на книги:\n",
    " * review_id — идентификатор обзора;\n",
    " * book_id — идентификатор книги;\n",
    " * username — имя пользователя, написавшего обзор;\n",
    " * text — текст обзора."
   ]
  },
  {
   "cell_type": "markdown",
   "metadata": {},
   "source": [
    "## Анализ базы данных"
   ]
  },
  {
   "cell_type": "markdown",
   "metadata": {},
   "source": [
    "### Количество книг, вышедших после 1 января 2000 года"
   ]
  },
  {
   "cell_type": "code",
   "execution_count": 3,
   "metadata": {},
   "outputs": [
    {
     "data": {
      "text/html": [
       "<div>\n",
       "<style scoped>\n",
       "    .dataframe tbody tr th:only-of-type {\n",
       "        vertical-align: middle;\n",
       "    }\n",
       "\n",
       "    .dataframe tbody tr th {\n",
       "        vertical-align: top;\n",
       "    }\n",
       "\n",
       "    .dataframe thead th {\n",
       "        text-align: right;\n",
       "    }\n",
       "</style>\n",
       "<table border=\"1\" class=\"dataframe\">\n",
       "  <thead>\n",
       "    <tr style=\"text-align: right;\">\n",
       "      <th></th>\n",
       "      <th>count</th>\n",
       "    </tr>\n",
       "  </thead>\n",
       "  <tbody>\n",
       "    <tr>\n",
       "      <th>0</th>\n",
       "      <td>821</td>\n",
       "    </tr>\n",
       "  </tbody>\n",
       "</table>\n",
       "</div>"
      ],
      "text/plain": [
       "   count\n",
       "0    821"
      ]
     },
     "metadata": {},
     "output_type": "display_data"
    }
   ],
   "source": [
    "query = '''\n",
    "    SELECT\n",
    "        COUNT(DISTINCT book_id)\n",
    "    FROM\n",
    "        books\n",
    "    WHERE\n",
    "        publication_date >= '2000-01-01'\n",
    "'''\n",
    "display(pd.io.sql.read_sql(query, con = engine))"
   ]
  },
  {
   "cell_type": "markdown",
   "metadata": {},
   "source": [
    "#### Вывод"
   ]
  },
  {
   "cell_type": "markdown",
   "metadata": {},
   "source": [
    "После 1 января 2000 года была выпущена 821 книга."
   ]
  },
  {
   "cell_type": "markdown",
   "metadata": {},
   "source": [
    "### Количество обзоров и средняя оценка для каждой книги"
   ]
  },
  {
   "cell_type": "markdown",
   "metadata": {},
   "source": [
    "Для каждой книги посчитаем количество обзоров и среднюю оценку.\n",
    "Для этого объединим 3 таблицы (books, reviews & ratings) по ключу book_id. Затем сгруппируем и отсортируем. Рейтинг округлим до сотых.\n",
    "\n",
    "ТОР10 по количеству обзоров:"
   ]
  },
  {
   "cell_type": "code",
   "execution_count": 4,
   "metadata": {},
   "outputs": [
    {
     "data": {
      "text/html": [
       "<div>\n",
       "<style scoped>\n",
       "    .dataframe tbody tr th:only-of-type {\n",
       "        vertical-align: middle;\n",
       "    }\n",
       "\n",
       "    .dataframe tbody tr th {\n",
       "        vertical-align: top;\n",
       "    }\n",
       "\n",
       "    .dataframe thead th {\n",
       "        text-align: right;\n",
       "    }\n",
       "</style>\n",
       "<table border=\"1\" class=\"dataframe\">\n",
       "  <thead>\n",
       "    <tr style=\"text-align: right;\">\n",
       "      <th></th>\n",
       "      <th>book_id</th>\n",
       "      <th>title</th>\n",
       "      <th>count_reviews</th>\n",
       "      <th>avg_rating</th>\n",
       "    </tr>\n",
       "  </thead>\n",
       "  <tbody>\n",
       "    <tr>\n",
       "      <th>0</th>\n",
       "      <td>948</td>\n",
       "      <td>Twilight (Twilight  #1)</td>\n",
       "      <td>7</td>\n",
       "      <td>3.66</td>\n",
       "    </tr>\n",
       "    <tr>\n",
       "      <th>1</th>\n",
       "      <td>302</td>\n",
       "      <td>Harry Potter and the Prisoner of Azkaban (Harry Potter  #3)</td>\n",
       "      <td>6</td>\n",
       "      <td>4.41</td>\n",
       "    </tr>\n",
       "    <tr>\n",
       "      <th>2</th>\n",
       "      <td>299</td>\n",
       "      <td>Harry Potter and the Chamber of Secrets (Harry Potter  #2)</td>\n",
       "      <td>6</td>\n",
       "      <td>4.29</td>\n",
       "    </tr>\n",
       "    <tr>\n",
       "      <th>3</th>\n",
       "      <td>656</td>\n",
       "      <td>The Book Thief</td>\n",
       "      <td>6</td>\n",
       "      <td>4.26</td>\n",
       "    </tr>\n",
       "    <tr>\n",
       "      <th>4</th>\n",
       "      <td>734</td>\n",
       "      <td>The Glass Castle</td>\n",
       "      <td>6</td>\n",
       "      <td>4.21</td>\n",
       "    </tr>\n",
       "    <tr>\n",
       "      <th>5</th>\n",
       "      <td>497</td>\n",
       "      <td>Outlander (Outlander  #1)</td>\n",
       "      <td>6</td>\n",
       "      <td>4.13</td>\n",
       "    </tr>\n",
       "    <tr>\n",
       "      <th>6</th>\n",
       "      <td>750</td>\n",
       "      <td>The Hobbit  or There and Back Again</td>\n",
       "      <td>6</td>\n",
       "      <td>4.13</td>\n",
       "    </tr>\n",
       "    <tr>\n",
       "      <th>7</th>\n",
       "      <td>695</td>\n",
       "      <td>The Curious Incident of the Dog in the Night-Time</td>\n",
       "      <td>6</td>\n",
       "      <td>4.08</td>\n",
       "    </tr>\n",
       "    <tr>\n",
       "      <th>8</th>\n",
       "      <td>779</td>\n",
       "      <td>The Lightning Thief (Percy Jackson and the Olympians  #1)</td>\n",
       "      <td>6</td>\n",
       "      <td>4.08</td>\n",
       "    </tr>\n",
       "    <tr>\n",
       "      <th>9</th>\n",
       "      <td>963</td>\n",
       "      <td>Water for Elephants</td>\n",
       "      <td>6</td>\n",
       "      <td>3.98</td>\n",
       "    </tr>\n",
       "  </tbody>\n",
       "</table>\n",
       "</div>"
      ],
      "text/plain": [
       "   book_id                                                        title  \\\n",
       "0      948                                      Twilight (Twilight  #1)   \n",
       "1      302  Harry Potter and the Prisoner of Azkaban (Harry Potter  #3)   \n",
       "2      299   Harry Potter and the Chamber of Secrets (Harry Potter  #2)   \n",
       "3      656                                               The Book Thief   \n",
       "4      734                                             The Glass Castle   \n",
       "5      497                                    Outlander (Outlander  #1)   \n",
       "6      750                          The Hobbit  or There and Back Again   \n",
       "7      695            The Curious Incident of the Dog in the Night-Time   \n",
       "8      779    The Lightning Thief (Percy Jackson and the Olympians  #1)   \n",
       "9      963                                          Water for Elephants   \n",
       "\n",
       "   count_reviews  avg_rating  \n",
       "0              7        3.66  \n",
       "1              6        4.41  \n",
       "2              6        4.29  \n",
       "3              6        4.26  \n",
       "4              6        4.21  \n",
       "5              6        4.13  \n",
       "6              6        4.13  \n",
       "7              6        4.08  \n",
       "8              6        4.08  \n",
       "9              6        3.98  "
      ]
     },
     "metadata": {},
     "output_type": "display_data"
    }
   ],
   "source": [
    "query = '''\n",
    "    SELECT b.book_id,\n",
    "           b.title,\n",
    "           COUNT(DISTINCT re.review_id) AS count_reviews,\n",
    "           ROUND(AVG(ra.rating), 2) AS avg_rating\n",
    "    FROM books AS b\n",
    "    LEFT OUTER JOIN reviews AS re ON b.book_id = re.book_id\n",
    "    LEFT OUTER JOIN ratings AS ra ON b.book_id = ra.book_id\n",
    "    GROUP BY b.book_id\n",
    "    ORDER BY count_reviews DESC, avg_rating DESC\n",
    "    LIMIT 10;\n",
    "'''\n",
    "display(pd.io.sql.read_sql(query, con = engine))"
   ]
  },
  {
   "cell_type": "markdown",
   "metadata": {},
   "source": [
    "ТОР10 по рейтингу:"
   ]
  },
  {
   "cell_type": "code",
   "execution_count": 5,
   "metadata": {},
   "outputs": [
    {
     "data": {
      "text/html": [
       "<div>\n",
       "<style scoped>\n",
       "    .dataframe tbody tr th:only-of-type {\n",
       "        vertical-align: middle;\n",
       "    }\n",
       "\n",
       "    .dataframe tbody tr th {\n",
       "        vertical-align: top;\n",
       "    }\n",
       "\n",
       "    .dataframe thead th {\n",
       "        text-align: right;\n",
       "    }\n",
       "</style>\n",
       "<table border=\"1\" class=\"dataframe\">\n",
       "  <thead>\n",
       "    <tr style=\"text-align: right;\">\n",
       "      <th></th>\n",
       "      <th>book_id</th>\n",
       "      <th>title</th>\n",
       "      <th>count_reviews</th>\n",
       "      <th>avg_rating</th>\n",
       "    </tr>\n",
       "  </thead>\n",
       "  <tbody>\n",
       "    <tr>\n",
       "      <th>0</th>\n",
       "      <td>17</td>\n",
       "      <td>A Dirty Job (Grim Reaper  #1)</td>\n",
       "      <td>4</td>\n",
       "      <td>5.0</td>\n",
       "    </tr>\n",
       "    <tr>\n",
       "      <th>1</th>\n",
       "      <td>553</td>\n",
       "      <td>School's Out—Forever (Maximum Ride  #2)</td>\n",
       "      <td>3</td>\n",
       "      <td>5.0</td>\n",
       "    </tr>\n",
       "    <tr>\n",
       "      <th>2</th>\n",
       "      <td>444</td>\n",
       "      <td>Moneyball: The Art of Winning an Unfair Game</td>\n",
       "      <td>3</td>\n",
       "      <td>5.0</td>\n",
       "    </tr>\n",
       "    <tr>\n",
       "      <th>3</th>\n",
       "      <td>169</td>\n",
       "      <td>Crucial Conversations: Tools for Talking When Stakes Are High</td>\n",
       "      <td>2</td>\n",
       "      <td>5.0</td>\n",
       "    </tr>\n",
       "    <tr>\n",
       "      <th>4</th>\n",
       "      <td>136</td>\n",
       "      <td>Captivating: Unveiling the Mystery of a Woman's Soul</td>\n",
       "      <td>2</td>\n",
       "      <td>5.0</td>\n",
       "    </tr>\n",
       "    <tr>\n",
       "      <th>5</th>\n",
       "      <td>62</td>\n",
       "      <td>Alas  Babylon</td>\n",
       "      <td>2</td>\n",
       "      <td>5.0</td>\n",
       "    </tr>\n",
       "    <tr>\n",
       "      <th>6</th>\n",
       "      <td>57</td>\n",
       "      <td>Act of Treason (Mitch Rapp  #9)</td>\n",
       "      <td>2</td>\n",
       "      <td>5.0</td>\n",
       "    </tr>\n",
       "    <tr>\n",
       "      <th>7</th>\n",
       "      <td>20</td>\n",
       "      <td>A Fistful of Charms (The Hollows  #4)</td>\n",
       "      <td>2</td>\n",
       "      <td>5.0</td>\n",
       "    </tr>\n",
       "    <tr>\n",
       "      <th>8</th>\n",
       "      <td>55</td>\n",
       "      <td>A Woman of Substance (Emma Harte Saga #1)</td>\n",
       "      <td>2</td>\n",
       "      <td>5.0</td>\n",
       "    </tr>\n",
       "    <tr>\n",
       "      <th>9</th>\n",
       "      <td>76</td>\n",
       "      <td>Angels Fall</td>\n",
       "      <td>2</td>\n",
       "      <td>5.0</td>\n",
       "    </tr>\n",
       "  </tbody>\n",
       "</table>\n",
       "</div>"
      ],
      "text/plain": [
       "   book_id                                                          title  \\\n",
       "0       17                                  A Dirty Job (Grim Reaper  #1)   \n",
       "1      553                        School's Out—Forever (Maximum Ride  #2)   \n",
       "2      444                   Moneyball: The Art of Winning an Unfair Game   \n",
       "3      169  Crucial Conversations: Tools for Talking When Stakes Are High   \n",
       "4      136           Captivating: Unveiling the Mystery of a Woman's Soul   \n",
       "5       62                                                  Alas  Babylon   \n",
       "6       57                                Act of Treason (Mitch Rapp  #9)   \n",
       "7       20                          A Fistful of Charms (The Hollows  #4)   \n",
       "8       55                      A Woman of Substance (Emma Harte Saga #1)   \n",
       "9       76                                                    Angels Fall   \n",
       "\n",
       "   count_reviews  avg_rating  \n",
       "0              4         5.0  \n",
       "1              3         5.0  \n",
       "2              3         5.0  \n",
       "3              2         5.0  \n",
       "4              2         5.0  \n",
       "5              2         5.0  \n",
       "6              2         5.0  \n",
       "7              2         5.0  \n",
       "8              2         5.0  \n",
       "9              2         5.0  "
      ]
     },
     "metadata": {},
     "output_type": "display_data"
    }
   ],
   "source": [
    "query = '''\n",
    "    SELECT b.book_id,\n",
    "           b.title,\n",
    "           COUNT(DISTINCT re.review_id) AS count_reviews,\n",
    "           ROUND(AVG(ra.rating), 2) AS avg_rating\n",
    "    FROM books AS b\n",
    "    LEFT OUTER JOIN reviews AS re ON b.book_id = re.book_id\n",
    "    LEFT OUTER JOIN ratings AS ra ON b.book_id = ra.book_id\n",
    "    GROUP BY b.book_id\n",
    "    ORDER BY avg_rating DESC, count_reviews DESC\n",
    "    LIMIT 10;\n",
    "'''\n",
    "display(pd.io.sql.read_sql(query, con = engine))"
   ]
  },
  {
   "cell_type": "markdown",
   "metadata": {},
   "source": [
    "#### Вывод"
   ]
  },
  {
   "cell_type": "markdown",
   "metadata": {},
   "source": [
    "**Обзоры (TOP10):**\n",
    "* Больше всех обзоров у книги: Сумерки #1 (Twilight #1)\n",
    "* В ТОР3 обзоров входят сразу 2 книги о Гарри Поттере\n",
    "\n",
    "**Рейтинг (TOP10):**\n",
    "* Первое место занимает A Dirty Job (Grim Reaper #1)."
   ]
  },
  {
   "cell_type": "markdown",
   "metadata": {},
   "source": [
    "### Издательство, которое выпустило наибольшее число книг толще 50 страниц"
   ]
  },
  {
   "cell_type": "markdown",
   "metadata": {},
   "source": [
    "Определим издательство, которое выпустило наибольшее число книг толще 50 страниц (чтобы исключить из анализа брошюры).\n",
    "Для этого объединим 2 таблицы (publishers & books) по ключу publisher_id. Оставим только те книги, где колличество страниц более 50, сгруппируем по издательству и отсортируем по колличеству книг. Выводим только одну строку."
   ]
  },
  {
   "cell_type": "code",
   "execution_count": 6,
   "metadata": {},
   "outputs": [
    {
     "data": {
      "text/html": [
       "<div>\n",
       "<style scoped>\n",
       "    .dataframe tbody tr th:only-of-type {\n",
       "        vertical-align: middle;\n",
       "    }\n",
       "\n",
       "    .dataframe tbody tr th {\n",
       "        vertical-align: top;\n",
       "    }\n",
       "\n",
       "    .dataframe thead th {\n",
       "        text-align: right;\n",
       "    }\n",
       "</style>\n",
       "<table border=\"1\" class=\"dataframe\">\n",
       "  <thead>\n",
       "    <tr style=\"text-align: right;\">\n",
       "      <th></th>\n",
       "      <th>publisher</th>\n",
       "      <th>count_books</th>\n",
       "    </tr>\n",
       "  </thead>\n",
       "  <tbody>\n",
       "    <tr>\n",
       "      <th>0</th>\n",
       "      <td>Penguin Books</td>\n",
       "      <td>42</td>\n",
       "    </tr>\n",
       "  </tbody>\n",
       "</table>\n",
       "</div>"
      ],
      "text/plain": [
       "       publisher  count_books\n",
       "0  Penguin Books           42"
      ]
     },
     "metadata": {},
     "output_type": "display_data"
    }
   ],
   "source": [
    "query = '''\n",
    "    SELECT p.publisher,\n",
    "           COUNT(b.book_id) AS count_books\n",
    "    FROM publishers AS p\n",
    "    LEFT OUTER JOIN books AS b ON p.publisher_id = b.publisher_id\n",
    "    GROUP BY p.publisher\n",
    "    ORDER BY count_books DESC\n",
    "    LIMIT 1;\n",
    "'''\n",
    "display(pd.io.sql.read_sql(query, con = engine))"
   ]
  },
  {
   "cell_type": "markdown",
   "metadata": {},
   "source": [
    "#### Вывод"
   ]
  },
  {
   "cell_type": "markdown",
   "metadata": {},
   "source": [
    "Penguin Books выпустило наибольшее число книг толще 50 страниц (42 названия)."
   ]
  },
  {
   "cell_type": "markdown",
   "metadata": {},
   "source": [
    "### Автор с самой высокой средней оценкой книг"
   ]
  },
  {
   "cell_type": "markdown",
   "metadata": {},
   "source": [
    "Определим автора с самой высокой средней оценкой книг. Будем учитывать только книги с 50 и более оценками."
   ]
  },
  {
   "cell_type": "code",
   "execution_count": 7,
   "metadata": {},
   "outputs": [
    {
     "data": {
      "text/html": [
       "<div>\n",
       "<style scoped>\n",
       "    .dataframe tbody tr th:only-of-type {\n",
       "        vertical-align: middle;\n",
       "    }\n",
       "\n",
       "    .dataframe tbody tr th {\n",
       "        vertical-align: top;\n",
       "    }\n",
       "\n",
       "    .dataframe thead th {\n",
       "        text-align: right;\n",
       "    }\n",
       "</style>\n",
       "<table border=\"1\" class=\"dataframe\">\n",
       "  <thead>\n",
       "    <tr style=\"text-align: right;\">\n",
       "      <th></th>\n",
       "      <th>author</th>\n",
       "      <th>avg_rating</th>\n",
       "    </tr>\n",
       "  </thead>\n",
       "  <tbody>\n",
       "    <tr>\n",
       "      <th>0</th>\n",
       "      <td>J.K. Rowling/Mary GrandPré</td>\n",
       "      <td>4.283844</td>\n",
       "    </tr>\n",
       "  </tbody>\n",
       "</table>\n",
       "</div>"
      ],
      "text/plain": [
       "                       author  avg_rating\n",
       "0  J.K. Rowling/Mary GrandPré    4.283844"
      ]
     },
     "metadata": {},
     "output_type": "display_data"
    }
   ],
   "source": [
    "query = '''\n",
    "\n",
    "SELECT                                                    \n",
    "     SUBQ.author AS author,                                \n",
    "     AVG(SUBQ.avg_rating) AS avg_rating\n",
    "FROM\n",
    "    (SELECT\n",
    "         authors.author AS author,\n",
    "         books.book_id AS id,\n",
    "         AVG(ratings.rating) AS avg_rating,\n",
    "         COUNT(ratings.rating) AS cnt_rating\n",
    "    FROM\n",
    "        authors\n",
    "    INNER JOIN books ON books.author_id = authors.author_id\n",
    "    INNER JOIN ratings ON ratings.book_id = books.book_id\n",
    "    GROUP BY\n",
    "        author,\n",
    "        id\n",
    "        HAVING COUNT(ratings.rating) >= 50) AS SUBQ\n",
    "GROUP BY\n",
    "    author\n",
    "ORDER BY\n",
    "    avg_rating DESC\n",
    "LIMIT 1;     \n",
    "'''\n",
    "display(pd.io.sql.read_sql(query, con = engine))"
   ]
  },
  {
   "cell_type": "markdown",
   "metadata": {},
   "source": [
    "#### Вывод"
   ]
  },
  {
   "cell_type": "markdown",
   "metadata": {},
   "source": [
    "J.K. Rowling/Mary GrandPré является автором с самой высокой средней оценкой книг (среди книг с 50 и более оценками)."
   ]
  },
  {
   "cell_type": "markdown",
   "metadata": {},
   "source": [
    "### Среднее количество обзоров от пользователей, которые поставили больше 50 оценок"
   ]
  },
  {
   "cell_type": "markdown",
   "metadata": {},
   "source": [
    "Посчитаем среднее количество обзоров от пользователей, которые поставили больше 50 оценок."
   ]
  },
  {
   "cell_type": "code",
   "execution_count": 8,
   "metadata": {},
   "outputs": [
    {
     "data": {
      "text/html": [
       "<div>\n",
       "<style scoped>\n",
       "    .dataframe tbody tr th:only-of-type {\n",
       "        vertical-align: middle;\n",
       "    }\n",
       "\n",
       "    .dataframe tbody tr th {\n",
       "        vertical-align: top;\n",
       "    }\n",
       "\n",
       "    .dataframe thead th {\n",
       "        text-align: right;\n",
       "    }\n",
       "</style>\n",
       "<table border=\"1\" class=\"dataframe\">\n",
       "  <thead>\n",
       "    <tr style=\"text-align: right;\">\n",
       "      <th></th>\n",
       "      <th>avg_reviews</th>\n",
       "    </tr>\n",
       "  </thead>\n",
       "  <tbody>\n",
       "    <tr>\n",
       "      <th>0</th>\n",
       "      <td>24.33</td>\n",
       "    </tr>\n",
       "  </tbody>\n",
       "</table>\n",
       "</div>"
      ],
      "text/plain": [
       "   avg_reviews\n",
       "0        24.33"
      ]
     },
     "metadata": {},
     "output_type": "display_data"
    }
   ],
   "source": [
    "query = '''\n",
    "    SELECT ROUND(COUNT(review_id) * 1. / COUNT(DISTINCT re.username), 2) AS avg_reviews\n",
    "    FROM (\n",
    "        SELECT username\n",
    "        FROM ratings\n",
    "        GROUP BY username\n",
    "        HAVING COUNT(rating_id) > 50\n",
    ") AS a\n",
    "LEFT JOIN reviews AS re ON a.username = re.username;\n",
    "'''\n",
    "display(pd.io.sql.read_sql(query, con = engine))"
   ]
  },
  {
   "cell_type": "markdown",
   "metadata": {},
   "source": [
    "#### Вывод"
   ]
  },
  {
   "cell_type": "markdown",
   "metadata": {},
   "source": [
    "Среднее количество обзоров от пользователей, которые поставили больше 50 оценок равняется 24,33."
   ]
  },
  {
   "cell_type": "markdown",
   "metadata": {},
   "source": [
    "### Выводы"
   ]
  },
  {
   "cell_type": "markdown",
   "metadata": {},
   "source": [
    "Основной задачей было — проанализировать базу данных сервиса для чтения книг по подписке.\n",
    "\n",
    "В нашем распоряжении 5 таблиц:\n",
    "\n",
    "Таблица books содержит данные о книгах.\n",
    "\n",
    "Таблица authors содержит данные об авторах.\n",
    "\n",
    "Таблица publishers содержит данные об издательствах.\n",
    "\n",
    "Таблица ratings содержит данные о пользовательских оценках книг.\n",
    "\n",
    "Таблица reviews содержит данные о пользовательских обзорах на книги.\n",
    "\n",
    "После 1 января 2000 года была выпущена 821 книга.\n",
    "\n",
    "**Обзоры (TOP10):**\n",
    "* Больше всех обзоров у книги: Сумерки #1 (Twilight #1)\n",
    "* В ТОР3 обзоров входят сразу 2 книги о Гарри Поттере\n",
    "\n",
    "**Рейтинг (TOP10):**\n",
    "* Первое место занимает A Dirty Job (Grim Reaper #1).\n",
    "\n",
    "Penguin Books выпустило наибольшее число книг толще 50 страниц (42 названия).\n",
    "\n",
    "J.K. Rowling/Mary GrandPré является автором с самой высокой средней оценкой книг (среди книг с 50 и более оценками).\n",
    "\n",
    "Среднее количество обзоров от пользователей, которые поставили больше 50 оценок равняется 24,33."
   ]
  }
 ],
 "metadata": {
  "ExecuteTimeLog": [
   {
    "duration": 12085,
    "start_time": "2022-06-29T16:50:22.635Z"
   },
   {
    "duration": 4,
    "start_time": "2022-06-29T16:51:25.536Z"
   },
   {
    "duration": 11431,
    "start_time": "2022-06-29T16:51:32.972Z"
   },
   {
    "duration": 159,
    "start_time": "2022-06-29T16:52:08.668Z"
   },
   {
    "duration": 14,
    "start_time": "2022-06-29T16:52:55.443Z"
   },
   {
    "duration": 17,
    "start_time": "2022-06-29T16:53:34.097Z"
   },
   {
    "duration": 23,
    "start_time": "2022-06-29T17:06:28.250Z"
   },
   {
    "duration": 29,
    "start_time": "2022-06-29T17:07:10.487Z"
   },
   {
    "duration": 198,
    "start_time": "2022-06-29T17:26:24.013Z"
   },
   {
    "duration": 93,
    "start_time": "2022-06-29T17:27:55.635Z"
   },
   {
    "duration": 116,
    "start_time": "2022-06-29T17:28:06.621Z"
   },
   {
    "duration": 97,
    "start_time": "2022-06-29T17:28:13.832Z"
   },
   {
    "duration": 17,
    "start_time": "2022-06-29T17:28:19.269Z"
   },
   {
    "duration": 127,
    "start_time": "2022-06-29T17:29:18.086Z"
   },
   {
    "duration": 111,
    "start_time": "2022-06-29T17:43:50.033Z"
   },
   {
    "duration": 102,
    "start_time": "2022-06-29T17:44:39.997Z"
   },
   {
    "duration": 20,
    "start_time": "2022-06-29T17:44:57.448Z"
   },
   {
    "duration": 21,
    "start_time": "2022-06-29T17:45:30.054Z"
   },
   {
    "duration": 20,
    "start_time": "2022-06-29T17:48:20.519Z"
   },
   {
    "duration": 22,
    "start_time": "2022-06-29T17:49:13.432Z"
   },
   {
    "duration": 21,
    "start_time": "2022-06-29T17:49:55.124Z"
   },
   {
    "duration": 22,
    "start_time": "2022-06-29T17:50:41.731Z"
   },
   {
    "duration": 23,
    "start_time": "2022-06-29T17:50:49.090Z"
   },
   {
    "duration": 21,
    "start_time": "2022-06-29T17:51:15.267Z"
   },
   {
    "duration": 2,
    "start_time": "2022-06-29T17:51:43.351Z"
   },
   {
    "duration": 12335,
    "start_time": "2022-06-29T18:01:13.565Z"
   },
   {
    "duration": 149,
    "start_time": "2022-06-29T18:01:25.902Z"
   },
   {
    "duration": 10,
    "start_time": "2022-06-29T18:01:26.065Z"
   },
   {
    "duration": 21,
    "start_time": "2022-06-29T18:01:26.077Z"
   },
   {
    "duration": 20,
    "start_time": "2022-06-29T18:01:26.100Z"
   },
   {
    "duration": 167,
    "start_time": "2022-06-29T18:08:21.887Z"
   },
   {
    "duration": 118,
    "start_time": "2022-06-29T18:09:59.446Z"
   },
   {
    "duration": 12,
    "start_time": "2022-06-29T18:14:08.345Z"
   },
   {
    "duration": 122,
    "start_time": "2022-06-29T18:26:19.996Z"
   },
   {
    "duration": 15,
    "start_time": "2022-06-29T18:27:07.747Z"
   },
   {
    "duration": 106,
    "start_time": "2022-06-29T18:28:29.119Z"
   },
   {
    "duration": 12,
    "start_time": "2022-06-29T18:28:44.893Z"
   },
   {
    "duration": 114,
    "start_time": "2022-06-29T18:29:04.061Z"
   },
   {
    "duration": 365,
    "start_time": "2022-06-29T18:29:35.807Z"
   },
   {
    "duration": 14,
    "start_time": "2022-06-29T18:34:26.507Z"
   },
   {
    "duration": 56,
    "start_time": "2022-06-29T18:42:08.234Z"
   },
   {
    "duration": 112,
    "start_time": "2022-06-29T19:01:26.686Z"
   },
   {
    "duration": 96,
    "start_time": "2022-06-29T19:01:55.642Z"
   },
   {
    "duration": 140,
    "start_time": "2022-06-29T19:02:08.296Z"
   },
   {
    "duration": 114,
    "start_time": "2022-06-29T19:02:21.212Z"
   },
   {
    "duration": 101,
    "start_time": "2022-06-29T19:03:00.946Z"
   },
   {
    "duration": 101,
    "start_time": "2022-06-29T19:04:06.998Z"
   },
   {
    "duration": 14,
    "start_time": "2022-06-29T19:04:59.234Z"
   },
   {
    "duration": 12,
    "start_time": "2022-06-29T19:06:43.407Z"
   },
   {
    "duration": 12,
    "start_time": "2022-06-29T19:09:06.873Z"
   },
   {
    "duration": 102,
    "start_time": "2022-06-29T19:09:37.754Z"
   },
   {
    "duration": 12,
    "start_time": "2022-06-29T19:10:20.196Z"
   },
   {
    "duration": 11,
    "start_time": "2022-06-29T19:10:29.562Z"
   },
   {
    "duration": 132,
    "start_time": "2022-06-29T19:12:43.561Z"
   },
   {
    "duration": 13,
    "start_time": "2022-06-29T19:12:53.057Z"
   },
   {
    "duration": 12,
    "start_time": "2022-06-29T19:19:27.285Z"
   },
   {
    "duration": 12,
    "start_time": "2022-06-29T19:19:44.614Z"
   },
   {
    "duration": 13,
    "start_time": "2022-06-29T19:22:20.493Z"
   },
   {
    "duration": 111,
    "start_time": "2022-06-29T19:27:39.068Z"
   },
   {
    "duration": 14,
    "start_time": "2022-06-29T19:27:56.272Z"
   },
   {
    "duration": 11526,
    "start_time": "2022-06-29T19:32:08.950Z"
   },
   {
    "duration": 108,
    "start_time": "2022-06-29T19:32:20.478Z"
   },
   {
    "duration": 9,
    "start_time": "2022-06-29T19:32:20.587Z"
   },
   {
    "duration": 20,
    "start_time": "2022-06-29T19:32:20.598Z"
   },
   {
    "duration": 20,
    "start_time": "2022-06-29T19:32:20.619Z"
   },
   {
    "duration": 11,
    "start_time": "2022-06-29T19:32:20.640Z"
   },
   {
    "duration": 22,
    "start_time": "2022-06-29T19:32:20.653Z"
   },
   {
    "duration": 11,
    "start_time": "2022-06-29T19:32:20.677Z"
   },
   {
    "duration": 12,
    "start_time": "2022-06-29T19:39:03.236Z"
   },
   {
    "duration": 12,
    "start_time": "2022-06-29T19:45:32.277Z"
   },
   {
    "duration": 15,
    "start_time": "2022-06-29T19:47:08.310Z"
   },
   {
    "duration": 12,
    "start_time": "2022-06-29T19:48:16.315Z"
   },
   {
    "duration": 188,
    "start_time": "2022-06-29T19:48:26.981Z"
   },
   {
    "duration": 14,
    "start_time": "2022-06-29T19:48:31.312Z"
   },
   {
    "duration": 12,
    "start_time": "2022-06-29T19:49:16.209Z"
   },
   {
    "duration": 13,
    "start_time": "2022-06-29T19:49:36.868Z"
   },
   {
    "duration": 12,
    "start_time": "2022-06-29T19:50:17.972Z"
   },
   {
    "duration": 930,
    "start_time": "2022-06-29T19:51:28.439Z"
   },
   {
    "duration": 14,
    "start_time": "2022-06-29T19:52:36.476Z"
   },
   {
    "duration": 105,
    "start_time": "2022-06-29T19:57:10.438Z"
   },
   {
    "duration": 13,
    "start_time": "2022-06-29T19:58:06.919Z"
   },
   {
    "duration": 104,
    "start_time": "2022-06-29T19:58:27.469Z"
   },
   {
    "duration": 25,
    "start_time": "2022-06-29T19:59:28.951Z"
   },
   {
    "duration": 16,
    "start_time": "2022-06-29T19:59:53.015Z"
   },
   {
    "duration": 18,
    "start_time": "2022-06-29T20:00:11.180Z"
   },
   {
    "duration": 15,
    "start_time": "2022-06-29T20:00:26.365Z"
   },
   {
    "duration": 12,
    "start_time": "2022-06-29T20:02:45.872Z"
   },
   {
    "duration": 16,
    "start_time": "2022-06-29T20:07:53.778Z"
   },
   {
    "duration": 14,
    "start_time": "2022-06-29T20:08:09.797Z"
   },
   {
    "duration": 12,
    "start_time": "2022-06-29T20:09:46.919Z"
   },
   {
    "duration": 22,
    "start_time": "2022-06-29T20:13:00.243Z"
   },
   {
    "duration": 24,
    "start_time": "2022-06-29T20:13:05.739Z"
   },
   {
    "duration": 17,
    "start_time": "2022-06-29T20:13:16.427Z"
   },
   {
    "duration": 21,
    "start_time": "2022-06-29T20:13:21.842Z"
   },
   {
    "duration": 17,
    "start_time": "2022-06-29T20:13:59.805Z"
   },
   {
    "duration": 16,
    "start_time": "2022-06-29T20:14:06.708Z"
   },
   {
    "duration": 18,
    "start_time": "2022-06-29T20:15:48.773Z"
   },
   {
    "duration": 15,
    "start_time": "2022-06-29T20:15:53.875Z"
   },
   {
    "duration": 10779,
    "start_time": "2022-06-29T20:16:48.007Z"
   },
   {
    "duration": 102,
    "start_time": "2022-06-29T20:16:58.788Z"
   },
   {
    "duration": 10,
    "start_time": "2022-06-29T20:16:58.892Z"
   },
   {
    "duration": 21,
    "start_time": "2022-06-29T20:16:58.903Z"
   },
   {
    "duration": 21,
    "start_time": "2022-06-29T20:16:58.926Z"
   },
   {
    "duration": 27,
    "start_time": "2022-06-29T20:16:58.948Z"
   },
   {
    "duration": 13,
    "start_time": "2022-06-29T20:16:58.977Z"
   },
   {
    "duration": 11,
    "start_time": "2022-06-29T20:16:58.992Z"
   },
   {
    "duration": 9340,
    "start_time": "2022-06-29T21:15:20.019Z"
   },
   {
    "duration": 548,
    "start_time": "2022-06-29T21:15:29.362Z"
   },
   {
    "duration": 73,
    "start_time": "2022-06-29T21:15:29.912Z"
   },
   {
    "duration": 85,
    "start_time": "2022-06-29T21:15:29.987Z"
   },
   {
    "duration": 84,
    "start_time": "2022-06-29T21:15:30.074Z"
   },
   {
    "duration": 73,
    "start_time": "2022-06-29T21:15:30.160Z"
   },
   {
    "duration": 86,
    "start_time": "2022-06-29T21:15:30.235Z"
   },
   {
    "duration": 80,
    "start_time": "2022-06-29T21:15:49.614Z"
   },
   {
    "duration": 8916,
    "start_time": "2022-06-30T05:16:31.947Z"
   },
   {
    "duration": 112,
    "start_time": "2022-06-30T05:16:44.624Z"
   },
   {
    "duration": 11,
    "start_time": "2022-06-30T05:17:29.038Z"
   },
   {
    "duration": 20,
    "start_time": "2022-06-30T05:17:33.209Z"
   },
   {
    "duration": 22,
    "start_time": "2022-06-30T05:19:40.346Z"
   },
   {
    "duration": 24,
    "start_time": "2022-06-30T05:20:03.479Z"
   },
   {
    "duration": 10,
    "start_time": "2022-06-30T05:21:51.651Z"
   },
   {
    "duration": 11,
    "start_time": "2022-06-30T05:27:30.900Z"
   },
   {
    "duration": 14,
    "start_time": "2022-06-30T05:27:35.312Z"
   },
   {
    "duration": 188,
    "start_time": "2022-06-30T05:30:05.054Z"
   },
   {
    "duration": 106,
    "start_time": "2022-06-30T05:30:26.953Z"
   },
   {
    "duration": 15,
    "start_time": "2022-06-30T05:31:23.559Z"
   },
   {
    "duration": 110,
    "start_time": "2022-06-30T05:33:55.059Z"
   },
   {
    "duration": 145,
    "start_time": "2022-06-30T05:34:14.901Z"
   },
   {
    "duration": 110,
    "start_time": "2022-06-30T05:34:34.951Z"
   },
   {
    "duration": 16,
    "start_time": "2022-06-30T05:34:41.175Z"
   },
   {
    "duration": 17,
    "start_time": "2022-06-30T05:37:15.592Z"
   },
   {
    "duration": 120,
    "start_time": "2022-06-30T05:45:34.925Z"
   },
   {
    "duration": 190,
    "start_time": "2022-06-30T05:47:23.485Z"
   },
   {
    "duration": 99,
    "start_time": "2022-06-30T05:50:08.533Z"
   },
   {
    "duration": 97,
    "start_time": "2022-06-30T05:50:31.208Z"
   },
   {
    "duration": 101,
    "start_time": "2022-06-30T05:51:08.734Z"
   },
   {
    "duration": 94,
    "start_time": "2022-06-30T05:51:41.364Z"
   },
   {
    "duration": 106,
    "start_time": "2022-06-30T05:53:17.988Z"
   },
   {
    "duration": 102,
    "start_time": "2022-06-30T05:53:56.087Z"
   },
   {
    "duration": 104,
    "start_time": "2022-06-30T05:55:56.087Z"
   },
   {
    "duration": 15,
    "start_time": "2022-06-30T06:04:41.530Z"
   },
   {
    "duration": 17,
    "start_time": "2022-06-30T06:06:23.563Z"
   },
   {
    "duration": 260,
    "start_time": "2022-06-30T06:09:14.971Z"
   },
   {
    "duration": 100,
    "start_time": "2022-06-30T06:09:32.587Z"
   },
   {
    "duration": 93,
    "start_time": "2022-06-30T06:11:22.783Z"
   },
   {
    "duration": 103,
    "start_time": "2022-06-30T06:12:21.964Z"
   },
   {
    "duration": 99,
    "start_time": "2022-06-30T06:15:52.862Z"
   },
   {
    "duration": 103,
    "start_time": "2022-06-30T06:17:41.257Z"
   },
   {
    "duration": 91,
    "start_time": "2022-06-30T06:23:48.736Z"
   },
   {
    "duration": 93,
    "start_time": "2022-06-30T06:27:34.853Z"
   },
   {
    "duration": 92,
    "start_time": "2022-06-30T06:27:48.225Z"
   },
   {
    "duration": 97,
    "start_time": "2022-06-30T06:27:54.911Z"
   },
   {
    "duration": 94,
    "start_time": "2022-06-30T06:28:33.118Z"
   },
   {
    "duration": 97,
    "start_time": "2022-06-30T06:29:14.277Z"
   },
   {
    "duration": 115,
    "start_time": "2022-06-30T06:37:03.596Z"
   },
   {
    "duration": 107,
    "start_time": "2022-06-30T06:39:36.373Z"
   },
   {
    "duration": 98,
    "start_time": "2022-06-30T06:39:54.733Z"
   },
   {
    "duration": 113,
    "start_time": "2022-06-30T06:40:54.494Z"
   },
   {
    "duration": 96,
    "start_time": "2022-06-30T06:43:54.237Z"
   },
   {
    "duration": 101,
    "start_time": "2022-06-30T06:44:04.398Z"
   },
   {
    "duration": 144,
    "start_time": "2022-06-30T06:44:11.648Z"
   },
   {
    "duration": 108,
    "start_time": "2022-06-30T06:44:35.170Z"
   },
   {
    "duration": 16,
    "start_time": "2022-06-30T06:45:32.695Z"
   },
   {
    "duration": 9608,
    "start_time": "2022-06-30T06:50:42.973Z"
   },
   {
    "duration": 99,
    "start_time": "2022-06-30T06:50:52.583Z"
   },
   {
    "duration": 12,
    "start_time": "2022-06-30T06:50:52.683Z"
   },
   {
    "duration": 27,
    "start_time": "2022-06-30T06:50:52.697Z"
   },
   {
    "duration": 23,
    "start_time": "2022-06-30T06:50:52.726Z"
   },
   {
    "duration": 12,
    "start_time": "2022-06-30T06:50:52.751Z"
   },
   {
    "duration": 14,
    "start_time": "2022-06-30T06:50:52.765Z"
   },
   {
    "duration": 12,
    "start_time": "2022-06-30T06:50:52.781Z"
   },
   {
    "duration": 54175,
    "start_time": "2022-06-30T08:36:05.767Z"
   },
   {
    "duration": 568,
    "start_time": "2022-06-30T08:36:59.945Z"
   },
   {
    "duration": 74,
    "start_time": "2022-06-30T08:37:00.515Z"
   },
   {
    "duration": 121,
    "start_time": "2022-06-30T08:37:00.592Z"
   },
   {
    "duration": 87,
    "start_time": "2022-06-30T08:37:07.030Z"
   },
   {
    "duration": 72,
    "start_time": "2022-06-30T08:37:12.579Z"
   },
   {
    "duration": 77,
    "start_time": "2022-06-30T08:37:20.149Z"
   },
   {
    "duration": 47,
    "start_time": "2022-06-30T10:00:12.297Z"
   },
   {
    "duration": 7447,
    "start_time": "2022-06-30T10:00:28.967Z"
   },
   {
    "duration": 522,
    "start_time": "2022-06-30T10:00:36.416Z"
   },
   {
    "duration": 72,
    "start_time": "2022-06-30T10:00:36.940Z"
   },
   {
    "duration": 107,
    "start_time": "2022-06-30T10:00:37.014Z"
   },
   {
    "duration": 80,
    "start_time": "2022-06-30T10:00:37.123Z"
   },
   {
    "duration": 73,
    "start_time": "2022-06-30T10:00:37.205Z"
   },
   {
    "duration": 74,
    "start_time": "2022-06-30T10:00:37.281Z"
   },
   {
    "duration": 70,
    "start_time": "2022-06-30T10:00:37.357Z"
   },
   {
    "duration": 49,
    "start_time": "2022-07-01T07:18:48.919Z"
   },
   {
    "duration": 6557,
    "start_time": "2022-07-01T07:18:55.788Z"
   },
   {
    "duration": 542,
    "start_time": "2022-07-01T07:19:02.348Z"
   },
   {
    "duration": 72,
    "start_time": "2022-07-01T07:19:02.892Z"
   },
   {
    "duration": 111,
    "start_time": "2022-07-01T07:19:02.966Z"
   },
   {
    "duration": 85,
    "start_time": "2022-07-01T07:19:03.078Z"
   },
   {
    "duration": 74,
    "start_time": "2022-07-01T07:19:03.165Z"
   },
   {
    "duration": 77,
    "start_time": "2022-07-01T07:19:03.241Z"
   },
   {
    "duration": 77,
    "start_time": "2022-07-01T07:19:03.320Z"
   },
   {
    "duration": 77,
    "start_time": "2022-07-01T07:19:26.786Z"
   },
   {
    "duration": 77,
    "start_time": "2022-07-01T07:19:36.666Z"
   },
   {
    "duration": 203,
    "start_time": "2022-07-01T07:20:29.216Z"
   },
   {
    "duration": 80,
    "start_time": "2022-07-01T07:20:34.141Z"
   },
   {
    "duration": 81,
    "start_time": "2022-07-01T07:27:22.520Z"
   },
   {
    "duration": 78,
    "start_time": "2022-07-01T07:41:33.873Z"
   },
   {
    "duration": 6746,
    "start_time": "2022-07-01T07:42:27.996Z"
   },
   {
    "duration": 549,
    "start_time": "2022-07-01T07:42:34.744Z"
   },
   {
    "duration": 75,
    "start_time": "2022-07-01T07:42:35.295Z"
   },
   {
    "duration": 112,
    "start_time": "2022-07-01T07:42:35.371Z"
   },
   {
    "duration": 85,
    "start_time": "2022-07-01T07:42:35.485Z"
   },
   {
    "duration": 75,
    "start_time": "2022-07-01T07:42:35.572Z"
   },
   {
    "duration": 80,
    "start_time": "2022-07-01T07:42:35.648Z"
   },
   {
    "duration": 78,
    "start_time": "2022-07-01T07:42:35.729Z"
   }
  ],
  "kernelspec": {
   "display_name": "Python 3 (ipykernel)",
   "language": "python",
   "name": "python3"
  },
  "language_info": {
   "codemirror_mode": {
    "name": "ipython",
    "version": 3
   },
   "file_extension": ".py",
   "mimetype": "text/x-python",
   "name": "python",
   "nbconvert_exporter": "python",
   "pygments_lexer": "ipython3",
   "version": "3.11.0"
  },
  "toc": {
   "base_numbering": 1,
   "nav_menu": {},
   "number_sections": true,
   "sideBar": true,
   "skip_h1_title": true,
   "title_cell": "Table of Contents",
   "title_sidebar": "Contents",
   "toc_cell": false,
   "toc_position": {
    "height": "calc(100% - 180px)",
    "left": "10px",
    "top": "150px",
    "width": "302.331px"
   },
   "toc_section_display": true,
   "toc_window_display": false
  }
 },
 "nbformat": 4,
 "nbformat_minor": 2
}
