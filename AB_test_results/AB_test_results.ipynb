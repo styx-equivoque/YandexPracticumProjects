{
 "cells": [
  {
   "cell_type": "markdown",
   "metadata": {},
   "source": [
    "# Принятие решений в бизнесе\n",
    "Вы — аналитик крупного интернет-магазина. Вместе с отделом маркетинга вы подготовили список гипотез для увеличения выручки.\n",
    "\n",
    "**Задача:**\n",
    "* Приоритизируйте гипотезы;\n",
    "* Запустите A/B-тест;\n",
    "* Проанализируйте результаты."
   ]
  },
  {
   "cell_type": "markdown",
   "metadata": {},
   "source": [
    "## Приоритизация гипотез"
   ]
  },
  {
   "cell_type": "markdown",
   "metadata": {},
   "source": [
    "### Изучение данных из файла"
   ]
  },
  {
   "cell_type": "markdown",
   "metadata": {},
   "source": [
    "Прежде всего **импортируем** необходимые нам для работы **библиотеки**. Делаем это в одном месте в самом начале, т.к. так удобнее и нагляднее - все библиотеки в одном месте."
   ]
  },
  {
   "cell_type": "code",
   "execution_count": 1,
   "metadata": {},
   "outputs": [],
   "source": [
    "# <импорт библиотеки pandas>\n",
    "# <импорт библиотеки datetime>\n",
    "# <импорт библиотеки numpy>\n",
    "# <импорт библиотеки matplotlib>\n",
    "# <импорт библиотеки scipy.stats>\n",
    "# <конвертеры, которые позволяют использовать типы pandas в matplotlib \n",
    "# <отключаем предупреждения>\n",
    "# <отображение строк целиком>\n",
    "\n",
    "import pandas as pd\n",
    "import datetime as dt\n",
    "import numpy as np\n",
    "import matplotlib.pyplot as plt\n",
    "import scipy.stats as stats\n",
    "from pandas.plotting import register_matplotlib_converters\n",
    "register_matplotlib_converters()\n",
    "import warnings\n",
    "warnings.filterwarnings('ignore')\n",
    "pd.set_option('display.max_colwidth', None)"
   ]
  },
  {
   "cell_type": "markdown",
   "metadata": {},
   "source": [
    "**Прочитаем** файл hypothesis.csv и **сохраним** его в переменной."
   ]
  },
  {
   "cell_type": "code",
   "execution_count": 2,
   "metadata": {},
   "outputs": [],
   "source": [
    "# <чтение файла с данными с сохранением в соответствующий датафрейм>\n",
    "\n",
    "try:\n",
    "    data = pd.read_csv('/datasets/hypothesis.csv') # файл с гипотезами\n",
    "except:\n",
    "    data = pd.read_csv('C:/Users/au21524/Documents/03_Jupyter/YP/Projects/08_AB_test_results/hypothesis.csv')"
   ]
  },
  {
   "cell_type": "markdown",
   "metadata": {},
   "source": [
    "Пишем функцию для изучения файлов: получаем первые и последние **5 строк таблиц для изучения, а также смотрим описание таблиц и дубликаты.**"
   ]
  },
  {
   "cell_type": "code",
   "execution_count": 3,
   "metadata": {},
   "outputs": [],
   "source": [
    "# функция для изучения файлов\n",
    "def show_table_info(table):\n",
    "    head_display = display(table.head()) # первые 5 строк\n",
    "    tail_display = display(table.tail()) # последние 5 строк\n",
    "    info_display = display(table.info()) # типы даных и пропуски\n",
    "    duplicates_display = display(table.duplicated().sum()) # дубликаты"
   ]
  },
  {
   "cell_type": "code",
   "execution_count": 4,
   "metadata": {},
   "outputs": [
    {
     "data": {
      "text/html": [
       "<div>\n",
       "<style scoped>\n",
       "    .dataframe tbody tr th:only-of-type {\n",
       "        vertical-align: middle;\n",
       "    }\n",
       "\n",
       "    .dataframe tbody tr th {\n",
       "        vertical-align: top;\n",
       "    }\n",
       "\n",
       "    .dataframe thead th {\n",
       "        text-align: right;\n",
       "    }\n",
       "</style>\n",
       "<table border=\"1\" class=\"dataframe\">\n",
       "  <thead>\n",
       "    <tr style=\"text-align: right;\">\n",
       "      <th></th>\n",
       "      <th>Hypothesis</th>\n",
       "      <th>Reach</th>\n",
       "      <th>Impact</th>\n",
       "      <th>Confidence</th>\n",
       "      <th>Efforts</th>\n",
       "    </tr>\n",
       "  </thead>\n",
       "  <tbody>\n",
       "    <tr>\n",
       "      <th>0</th>\n",
       "      <td>Добавить два новых канала привлечения трафика, что позволит привлекать на 30% больше пользователей</td>\n",
       "      <td>3</td>\n",
       "      <td>10</td>\n",
       "      <td>8</td>\n",
       "      <td>6</td>\n",
       "    </tr>\n",
       "    <tr>\n",
       "      <th>1</th>\n",
       "      <td>Запустить собственную службу доставки, что сократит срок доставки заказов</td>\n",
       "      <td>2</td>\n",
       "      <td>5</td>\n",
       "      <td>4</td>\n",
       "      <td>10</td>\n",
       "    </tr>\n",
       "    <tr>\n",
       "      <th>2</th>\n",
       "      <td>Добавить блоки рекомендаций товаров на сайт интернет магазина, чтобы повысить конверсию и средний чек заказа</td>\n",
       "      <td>8</td>\n",
       "      <td>3</td>\n",
       "      <td>7</td>\n",
       "      <td>3</td>\n",
       "    </tr>\n",
       "    <tr>\n",
       "      <th>3</th>\n",
       "      <td>Изменить структура категорий, что увеличит конверсию, т.к. пользователи быстрее найдут нужный товар</td>\n",
       "      <td>8</td>\n",
       "      <td>3</td>\n",
       "      <td>3</td>\n",
       "      <td>8</td>\n",
       "    </tr>\n",
       "    <tr>\n",
       "      <th>4</th>\n",
       "      <td>Изменить цвет фона главной страницы, чтобы увеличить вовлеченность пользователей</td>\n",
       "      <td>3</td>\n",
       "      <td>1</td>\n",
       "      <td>1</td>\n",
       "      <td>1</td>\n",
       "    </tr>\n",
       "  </tbody>\n",
       "</table>\n",
       "</div>"
      ],
      "text/plain": [
       "                                                                                                     Hypothesis  \\\n",
       "0            Добавить два новых канала привлечения трафика, что позволит привлекать на 30% больше пользователей   \n",
       "1                                     Запустить собственную службу доставки, что сократит срок доставки заказов   \n",
       "2  Добавить блоки рекомендаций товаров на сайт интернет магазина, чтобы повысить конверсию и средний чек заказа   \n",
       "3           Изменить структура категорий, что увеличит конверсию, т.к. пользователи быстрее найдут нужный товар   \n",
       "4                              Изменить цвет фона главной страницы, чтобы увеличить вовлеченность пользователей   \n",
       "\n",
       "   Reach  Impact  Confidence  Efforts  \n",
       "0      3      10           8        6  \n",
       "1      2       5           4       10  \n",
       "2      8       3           7        3  \n",
       "3      8       3           3        8  \n",
       "4      3       1           1        1  "
      ]
     },
     "metadata": {},
     "output_type": "display_data"
    },
    {
     "data": {
      "text/html": [
       "<div>\n",
       "<style scoped>\n",
       "    .dataframe tbody tr th:only-of-type {\n",
       "        vertical-align: middle;\n",
       "    }\n",
       "\n",
       "    .dataframe tbody tr th {\n",
       "        vertical-align: top;\n",
       "    }\n",
       "\n",
       "    .dataframe thead th {\n",
       "        text-align: right;\n",
       "    }\n",
       "</style>\n",
       "<table border=\"1\" class=\"dataframe\">\n",
       "  <thead>\n",
       "    <tr style=\"text-align: right;\">\n",
       "      <th></th>\n",
       "      <th>Hypothesis</th>\n",
       "      <th>Reach</th>\n",
       "      <th>Impact</th>\n",
       "      <th>Confidence</th>\n",
       "      <th>Efforts</th>\n",
       "    </tr>\n",
       "  </thead>\n",
       "  <tbody>\n",
       "    <tr>\n",
       "      <th>4</th>\n",
       "      <td>Изменить цвет фона главной страницы, чтобы увеличить вовлеченность пользователей</td>\n",
       "      <td>3</td>\n",
       "      <td>1</td>\n",
       "      <td>1</td>\n",
       "      <td>1</td>\n",
       "    </tr>\n",
       "    <tr>\n",
       "      <th>5</th>\n",
       "      <td>Добавить страницу отзывов клиентов о магазине, что позволит увеличить количество заказов</td>\n",
       "      <td>3</td>\n",
       "      <td>2</td>\n",
       "      <td>2</td>\n",
       "      <td>3</td>\n",
       "    </tr>\n",
       "    <tr>\n",
       "      <th>6</th>\n",
       "      <td>Показать на главной странице баннеры с актуальными акциями и распродажами, чтобы увеличить конверсию</td>\n",
       "      <td>5</td>\n",
       "      <td>3</td>\n",
       "      <td>8</td>\n",
       "      <td>3</td>\n",
       "    </tr>\n",
       "    <tr>\n",
       "      <th>7</th>\n",
       "      <td>Добавить форму подписки на все основные страницы, чтобы собрать базу клиентов для email-рассылок</td>\n",
       "      <td>10</td>\n",
       "      <td>7</td>\n",
       "      <td>8</td>\n",
       "      <td>5</td>\n",
       "    </tr>\n",
       "    <tr>\n",
       "      <th>8</th>\n",
       "      <td>Запустить акцию, дающую скидку на товар в день рождения</td>\n",
       "      <td>1</td>\n",
       "      <td>9</td>\n",
       "      <td>9</td>\n",
       "      <td>5</td>\n",
       "    </tr>\n",
       "  </tbody>\n",
       "</table>\n",
       "</div>"
      ],
      "text/plain": [
       "                                                                                             Hypothesis  \\\n",
       "4                      Изменить цвет фона главной страницы, чтобы увеличить вовлеченность пользователей   \n",
       "5              Добавить страницу отзывов клиентов о магазине, что позволит увеличить количество заказов   \n",
       "6  Показать на главной странице баннеры с актуальными акциями и распродажами, чтобы увеличить конверсию   \n",
       "7      Добавить форму подписки на все основные страницы, чтобы собрать базу клиентов для email-рассылок   \n",
       "8                                               Запустить акцию, дающую скидку на товар в день рождения   \n",
       "\n",
       "   Reach  Impact  Confidence  Efforts  \n",
       "4      3       1           1        1  \n",
       "5      3       2           2        3  \n",
       "6      5       3           8        3  \n",
       "7     10       7           8        5  \n",
       "8      1       9           9        5  "
      ]
     },
     "metadata": {},
     "output_type": "display_data"
    },
    {
     "name": "stdout",
     "output_type": "stream",
     "text": [
      "<class 'pandas.core.frame.DataFrame'>\n",
      "RangeIndex: 9 entries, 0 to 8\n",
      "Data columns (total 5 columns):\n",
      " #   Column      Non-Null Count  Dtype \n",
      "---  ------      --------------  ----- \n",
      " 0   Hypothesis  9 non-null      object\n",
      " 1   Reach       9 non-null      int64 \n",
      " 2   Impact      9 non-null      int64 \n",
      " 3   Confidence  9 non-null      int64 \n",
      " 4   Efforts     9 non-null      int64 \n",
      "dtypes: int64(4), object(1)\n",
      "memory usage: 488.0+ bytes\n"
     ]
    },
    {
     "data": {
      "text/plain": [
       "None"
      ]
     },
     "metadata": {},
     "output_type": "display_data"
    },
    {
     "data": {
      "text/plain": [
       "0"
      ]
     },
     "metadata": {},
     "output_type": "display_data"
    }
   ],
   "source": [
    "show_table_info(data)"
   ]
  },
  {
   "cell_type": "markdown",
   "metadata": {},
   "source": [
    "Файл с гипотезами содержит 9 гипотез по увеличению выручки интернет-магазина с указанными параметрами Reach, Impact, Confidence и Efforts.\n",
    "\n",
    "Дубликаты отсутствуют."
   ]
  },
  {
   "cell_type": "code",
   "execution_count": 5,
   "metadata": {},
   "outputs": [],
   "source": [
    "# Для удобства приведем заголовки к нижнему регистру\n",
    "data.columns = data.columns.str.lower()"
   ]
  },
  {
   "cell_type": "markdown",
   "metadata": {},
   "source": [
    "### ICE"
   ]
  },
  {
   "cell_type": "markdown",
   "metadata": {},
   "source": [
    "Применим фреймворк ICE для приоритизации гипотез и отсортируем их по убыванию приоритета."
   ]
  },
  {
   "cell_type": "markdown",
   "metadata": {},
   "source": [
    "Формула для расчета:\n",
    "$$ICE = \\frac{Impact * Confidence}{Efforts}$$"
   ]
  },
  {
   "cell_type": "code",
   "execution_count": 6,
   "metadata": {},
   "outputs": [
    {
     "data": {
      "text/html": [
       "<div>\n",
       "<style scoped>\n",
       "    .dataframe tbody tr th:only-of-type {\n",
       "        vertical-align: middle;\n",
       "    }\n",
       "\n",
       "    .dataframe tbody tr th {\n",
       "        vertical-align: top;\n",
       "    }\n",
       "\n",
       "    .dataframe thead th {\n",
       "        text-align: right;\n",
       "    }\n",
       "</style>\n",
       "<table border=\"1\" class=\"dataframe\">\n",
       "  <thead>\n",
       "    <tr style=\"text-align: right;\">\n",
       "      <th></th>\n",
       "      <th>hypothesis</th>\n",
       "      <th>ICE</th>\n",
       "    </tr>\n",
       "  </thead>\n",
       "  <tbody>\n",
       "    <tr>\n",
       "      <th>8</th>\n",
       "      <td>Запустить акцию, дающую скидку на товар в день рождения</td>\n",
       "      <td>16.20</td>\n",
       "    </tr>\n",
       "    <tr>\n",
       "      <th>0</th>\n",
       "      <td>Добавить два новых канала привлечения трафика, что позволит привлекать на 30% больше пользователей</td>\n",
       "      <td>13.33</td>\n",
       "    </tr>\n",
       "    <tr>\n",
       "      <th>7</th>\n",
       "      <td>Добавить форму подписки на все основные страницы, чтобы собрать базу клиентов для email-рассылок</td>\n",
       "      <td>11.20</td>\n",
       "    </tr>\n",
       "    <tr>\n",
       "      <th>6</th>\n",
       "      <td>Показать на главной странице баннеры с актуальными акциями и распродажами, чтобы увеличить конверсию</td>\n",
       "      <td>8.00</td>\n",
       "    </tr>\n",
       "    <tr>\n",
       "      <th>2</th>\n",
       "      <td>Добавить блоки рекомендаций товаров на сайт интернет магазина, чтобы повысить конверсию и средний чек заказа</td>\n",
       "      <td>7.00</td>\n",
       "    </tr>\n",
       "    <tr>\n",
       "      <th>1</th>\n",
       "      <td>Запустить собственную службу доставки, что сократит срок доставки заказов</td>\n",
       "      <td>2.00</td>\n",
       "    </tr>\n",
       "    <tr>\n",
       "      <th>5</th>\n",
       "      <td>Добавить страницу отзывов клиентов о магазине, что позволит увеличить количество заказов</td>\n",
       "      <td>1.33</td>\n",
       "    </tr>\n",
       "    <tr>\n",
       "      <th>3</th>\n",
       "      <td>Изменить структура категорий, что увеличит конверсию, т.к. пользователи быстрее найдут нужный товар</td>\n",
       "      <td>1.12</td>\n",
       "    </tr>\n",
       "    <tr>\n",
       "      <th>4</th>\n",
       "      <td>Изменить цвет фона главной страницы, чтобы увеличить вовлеченность пользователей</td>\n",
       "      <td>1.00</td>\n",
       "    </tr>\n",
       "  </tbody>\n",
       "</table>\n",
       "</div>"
      ],
      "text/plain": [
       "                                                                                                     hypothesis  \\\n",
       "8                                                       Запустить акцию, дающую скидку на товар в день рождения   \n",
       "0            Добавить два новых канала привлечения трафика, что позволит привлекать на 30% больше пользователей   \n",
       "7              Добавить форму подписки на все основные страницы, чтобы собрать базу клиентов для email-рассылок   \n",
       "6          Показать на главной странице баннеры с актуальными акциями и распродажами, чтобы увеличить конверсию   \n",
       "2  Добавить блоки рекомендаций товаров на сайт интернет магазина, чтобы повысить конверсию и средний чек заказа   \n",
       "1                                     Запустить собственную службу доставки, что сократит срок доставки заказов   \n",
       "5                      Добавить страницу отзывов клиентов о магазине, что позволит увеличить количество заказов   \n",
       "3           Изменить структура категорий, что увеличит конверсию, т.к. пользователи быстрее найдут нужный товар   \n",
       "4                              Изменить цвет фона главной страницы, чтобы увеличить вовлеченность пользователей   \n",
       "\n",
       "     ICE  \n",
       "8  16.20  \n",
       "0  13.33  \n",
       "7  11.20  \n",
       "6   8.00  \n",
       "2   7.00  \n",
       "1   2.00  \n",
       "5   1.33  \n",
       "3   1.12  \n",
       "4   1.00  "
      ]
     },
     "execution_count": 6,
     "metadata": {},
     "output_type": "execute_result"
    }
   ],
   "source": [
    "# Создаем дополнительный столбец ICE, в который помещаем результат вычислений\n",
    "data['ICE'] = (data['impact'] * data['confidence']) / data['efforts']\n",
    "data = data.round({'ICE': 2})\n",
    "\n",
    "# Выводим гипотезы в порядке убывания приоритета\n",
    "data[['hypothesis', 'ICE']].sort_values(by = 'ICE', ascending = False)"
   ]
  },
  {
   "cell_type": "markdown",
   "metadata": {},
   "source": [
    "По методу ICE самые приоритетные гипотезы - это 8, 0 и 7."
   ]
  },
  {
   "cell_type": "markdown",
   "metadata": {},
   "source": [
    "### RICE"
   ]
  },
  {
   "cell_type": "markdown",
   "metadata": {},
   "source": [
    "Применим фреймворк RICE для приоритизации гипотез и отсортируем их по убыванию приоритета."
   ]
  },
  {
   "cell_type": "markdown",
   "metadata": {},
   "source": [
    "Формула для расчета:\n",
    "$$RICE = \\frac{Reach * Impact * Confidence}{Efforts}$$"
   ]
  },
  {
   "cell_type": "code",
   "execution_count": 7,
   "metadata": {},
   "outputs": [
    {
     "data": {
      "text/html": [
       "<div>\n",
       "<style scoped>\n",
       "    .dataframe tbody tr th:only-of-type {\n",
       "        vertical-align: middle;\n",
       "    }\n",
       "\n",
       "    .dataframe tbody tr th {\n",
       "        vertical-align: top;\n",
       "    }\n",
       "\n",
       "    .dataframe thead th {\n",
       "        text-align: right;\n",
       "    }\n",
       "</style>\n",
       "<table border=\"1\" class=\"dataframe\">\n",
       "  <thead>\n",
       "    <tr style=\"text-align: right;\">\n",
       "      <th></th>\n",
       "      <th>hypothesis</th>\n",
       "      <th>RICE</th>\n",
       "    </tr>\n",
       "  </thead>\n",
       "  <tbody>\n",
       "    <tr>\n",
       "      <th>7</th>\n",
       "      <td>Добавить форму подписки на все основные страницы, чтобы собрать базу клиентов для email-рассылок</td>\n",
       "      <td>112.0</td>\n",
       "    </tr>\n",
       "    <tr>\n",
       "      <th>2</th>\n",
       "      <td>Добавить блоки рекомендаций товаров на сайт интернет магазина, чтобы повысить конверсию и средний чек заказа</td>\n",
       "      <td>56.0</td>\n",
       "    </tr>\n",
       "    <tr>\n",
       "      <th>0</th>\n",
       "      <td>Добавить два новых канала привлечения трафика, что позволит привлекать на 30% больше пользователей</td>\n",
       "      <td>40.0</td>\n",
       "    </tr>\n",
       "    <tr>\n",
       "      <th>6</th>\n",
       "      <td>Показать на главной странице баннеры с актуальными акциями и распродажами, чтобы увеличить конверсию</td>\n",
       "      <td>40.0</td>\n",
       "    </tr>\n",
       "    <tr>\n",
       "      <th>8</th>\n",
       "      <td>Запустить акцию, дающую скидку на товар в день рождения</td>\n",
       "      <td>16.2</td>\n",
       "    </tr>\n",
       "    <tr>\n",
       "      <th>3</th>\n",
       "      <td>Изменить структура категорий, что увеличит конверсию, т.к. пользователи быстрее найдут нужный товар</td>\n",
       "      <td>9.0</td>\n",
       "    </tr>\n",
       "    <tr>\n",
       "      <th>1</th>\n",
       "      <td>Запустить собственную службу доставки, что сократит срок доставки заказов</td>\n",
       "      <td>4.0</td>\n",
       "    </tr>\n",
       "    <tr>\n",
       "      <th>5</th>\n",
       "      <td>Добавить страницу отзывов клиентов о магазине, что позволит увеличить количество заказов</td>\n",
       "      <td>4.0</td>\n",
       "    </tr>\n",
       "    <tr>\n",
       "      <th>4</th>\n",
       "      <td>Изменить цвет фона главной страницы, чтобы увеличить вовлеченность пользователей</td>\n",
       "      <td>3.0</td>\n",
       "    </tr>\n",
       "  </tbody>\n",
       "</table>\n",
       "</div>"
      ],
      "text/plain": [
       "                                                                                                     hypothesis  \\\n",
       "7              Добавить форму подписки на все основные страницы, чтобы собрать базу клиентов для email-рассылок   \n",
       "2  Добавить блоки рекомендаций товаров на сайт интернет магазина, чтобы повысить конверсию и средний чек заказа   \n",
       "0            Добавить два новых канала привлечения трафика, что позволит привлекать на 30% больше пользователей   \n",
       "6          Показать на главной странице баннеры с актуальными акциями и распродажами, чтобы увеличить конверсию   \n",
       "8                                                       Запустить акцию, дающую скидку на товар в день рождения   \n",
       "3           Изменить структура категорий, что увеличит конверсию, т.к. пользователи быстрее найдут нужный товар   \n",
       "1                                     Запустить собственную службу доставки, что сократит срок доставки заказов   \n",
       "5                      Добавить страницу отзывов клиентов о магазине, что позволит увеличить количество заказов   \n",
       "4                              Изменить цвет фона главной страницы, чтобы увеличить вовлеченность пользователей   \n",
       "\n",
       "    RICE  \n",
       "7  112.0  \n",
       "2   56.0  \n",
       "0   40.0  \n",
       "6   40.0  \n",
       "8   16.2  \n",
       "3    9.0  \n",
       "1    4.0  \n",
       "5    4.0  \n",
       "4    3.0  "
      ]
     },
     "execution_count": 7,
     "metadata": {},
     "output_type": "execute_result"
    }
   ],
   "source": [
    "# Создаем дополнительный столбец RICE, в который помещаем результат вычислений\n",
    "data['RICE'] = (data['reach'] * data['impact'] * data['confidence']) / data['efforts']\n",
    "\n",
    "# Выводим гипотезы в порядке убывания приоритета\n",
    "data[['hypothesis', 'RICE']].sort_values(by = 'RICE', ascending = False)"
   ]
  },
  {
   "cell_type": "markdown",
   "metadata": {},
   "source": [
    "По методу RICE самые приоритетные гипотезы - это 7, 2, 0 и 6.\n",
    "\n",
    "Приоритизация гипотез изменилась при применении RICE вместо ICE. Так произошло, потому что мы добавили в расчет параметр Reach, т.е. скольких пользователей затронет изменение. Гипотезы 7, 2 т 6 имют высокий балл по этому параметру, поэтому выбиваются вперед."
   ]
  },
  {
   "cell_type": "markdown",
   "metadata": {},
   "source": [
    "### Вывод"
   ]
  },
  {
   "cell_type": "markdown",
   "metadata": {},
   "source": [
    "Отобразим RICE и ICE в одной таблице.\n",
    "\n",
    "Отсортируем сначала по RICE, т.к. он учитывает больше критериев, а затем по ICE."
   ]
  },
  {
   "cell_type": "code",
   "execution_count": 8,
   "metadata": {},
   "outputs": [
    {
     "data": {
      "text/html": [
       "<div>\n",
       "<style scoped>\n",
       "    .dataframe tbody tr th:only-of-type {\n",
       "        vertical-align: middle;\n",
       "    }\n",
       "\n",
       "    .dataframe tbody tr th {\n",
       "        vertical-align: top;\n",
       "    }\n",
       "\n",
       "    .dataframe thead th {\n",
       "        text-align: right;\n",
       "    }\n",
       "</style>\n",
       "<table border=\"1\" class=\"dataframe\">\n",
       "  <thead>\n",
       "    <tr style=\"text-align: right;\">\n",
       "      <th></th>\n",
       "      <th>hypothesis</th>\n",
       "      <th>reach</th>\n",
       "      <th>impact</th>\n",
       "      <th>confidence</th>\n",
       "      <th>efforts</th>\n",
       "      <th>ICE</th>\n",
       "      <th>RICE</th>\n",
       "    </tr>\n",
       "  </thead>\n",
       "  <tbody>\n",
       "    <tr>\n",
       "      <th>7</th>\n",
       "      <td>Добавить форму подписки на все основные страницы, чтобы собрать базу клиентов для email-рассылок</td>\n",
       "      <td>10</td>\n",
       "      <td>7</td>\n",
       "      <td>8</td>\n",
       "      <td>5</td>\n",
       "      <td>11.20</td>\n",
       "      <td>112.0</td>\n",
       "    </tr>\n",
       "    <tr>\n",
       "      <th>2</th>\n",
       "      <td>Добавить блоки рекомендаций товаров на сайт интернет магазина, чтобы повысить конверсию и средний чек заказа</td>\n",
       "      <td>8</td>\n",
       "      <td>3</td>\n",
       "      <td>7</td>\n",
       "      <td>3</td>\n",
       "      <td>7.00</td>\n",
       "      <td>56.0</td>\n",
       "    </tr>\n",
       "    <tr>\n",
       "      <th>0</th>\n",
       "      <td>Добавить два новых канала привлечения трафика, что позволит привлекать на 30% больше пользователей</td>\n",
       "      <td>3</td>\n",
       "      <td>10</td>\n",
       "      <td>8</td>\n",
       "      <td>6</td>\n",
       "      <td>13.33</td>\n",
       "      <td>40.0</td>\n",
       "    </tr>\n",
       "    <tr>\n",
       "      <th>6</th>\n",
       "      <td>Показать на главной странице баннеры с актуальными акциями и распродажами, чтобы увеличить конверсию</td>\n",
       "      <td>5</td>\n",
       "      <td>3</td>\n",
       "      <td>8</td>\n",
       "      <td>3</td>\n",
       "      <td>8.00</td>\n",
       "      <td>40.0</td>\n",
       "    </tr>\n",
       "    <tr>\n",
       "      <th>8</th>\n",
       "      <td>Запустить акцию, дающую скидку на товар в день рождения</td>\n",
       "      <td>1</td>\n",
       "      <td>9</td>\n",
       "      <td>9</td>\n",
       "      <td>5</td>\n",
       "      <td>16.20</td>\n",
       "      <td>16.2</td>\n",
       "    </tr>\n",
       "    <tr>\n",
       "      <th>3</th>\n",
       "      <td>Изменить структура категорий, что увеличит конверсию, т.к. пользователи быстрее найдут нужный товар</td>\n",
       "      <td>8</td>\n",
       "      <td>3</td>\n",
       "      <td>3</td>\n",
       "      <td>8</td>\n",
       "      <td>1.12</td>\n",
       "      <td>9.0</td>\n",
       "    </tr>\n",
       "    <tr>\n",
       "      <th>1</th>\n",
       "      <td>Запустить собственную службу доставки, что сократит срок доставки заказов</td>\n",
       "      <td>2</td>\n",
       "      <td>5</td>\n",
       "      <td>4</td>\n",
       "      <td>10</td>\n",
       "      <td>2.00</td>\n",
       "      <td>4.0</td>\n",
       "    </tr>\n",
       "    <tr>\n",
       "      <th>5</th>\n",
       "      <td>Добавить страницу отзывов клиентов о магазине, что позволит увеличить количество заказов</td>\n",
       "      <td>3</td>\n",
       "      <td>2</td>\n",
       "      <td>2</td>\n",
       "      <td>3</td>\n",
       "      <td>1.33</td>\n",
       "      <td>4.0</td>\n",
       "    </tr>\n",
       "    <tr>\n",
       "      <th>4</th>\n",
       "      <td>Изменить цвет фона главной страницы, чтобы увеличить вовлеченность пользователей</td>\n",
       "      <td>3</td>\n",
       "      <td>1</td>\n",
       "      <td>1</td>\n",
       "      <td>1</td>\n",
       "      <td>1.00</td>\n",
       "      <td>3.0</td>\n",
       "    </tr>\n",
       "  </tbody>\n",
       "</table>\n",
       "</div>"
      ],
      "text/plain": [
       "                                                                                                     hypothesis  \\\n",
       "7              Добавить форму подписки на все основные страницы, чтобы собрать базу клиентов для email-рассылок   \n",
       "2  Добавить блоки рекомендаций товаров на сайт интернет магазина, чтобы повысить конверсию и средний чек заказа   \n",
       "0            Добавить два новых канала привлечения трафика, что позволит привлекать на 30% больше пользователей   \n",
       "6          Показать на главной странице баннеры с актуальными акциями и распродажами, чтобы увеличить конверсию   \n",
       "8                                                       Запустить акцию, дающую скидку на товар в день рождения   \n",
       "3           Изменить структура категорий, что увеличит конверсию, т.к. пользователи быстрее найдут нужный товар   \n",
       "1                                     Запустить собственную службу доставки, что сократит срок доставки заказов   \n",
       "5                      Добавить страницу отзывов клиентов о магазине, что позволит увеличить количество заказов   \n",
       "4                              Изменить цвет фона главной страницы, чтобы увеличить вовлеченность пользователей   \n",
       "\n",
       "   reach  impact  confidence  efforts    ICE   RICE  \n",
       "7     10       7           8        5  11.20  112.0  \n",
       "2      8       3           7        3   7.00   56.0  \n",
       "0      3      10           8        6  13.33   40.0  \n",
       "6      5       3           8        3   8.00   40.0  \n",
       "8      1       9           9        5  16.20   16.2  \n",
       "3      8       3           3        8   1.12    9.0  \n",
       "1      2       5           4       10   2.00    4.0  \n",
       "5      3       2           2        3   1.33    4.0  \n",
       "4      3       1           1        1   1.00    3.0  "
      ]
     },
     "execution_count": 8,
     "metadata": {},
     "output_type": "execute_result"
    }
   ],
   "source": [
    "data.sort_values(['RICE', 'ICE'], ascending=[False, False])"
   ]
  },
  {
   "cell_type": "markdown",
   "metadata": {},
   "source": [
    "По методу ICE самые приоритетные гипотезы - это 8, 0 и 7.\n",
    "По методу RICE самые приоритетные гипотезы - это 7, 2, 0 и 6.\n",
    "\n",
    "Приоритизация гипотез разная, т.е. в метоже RICE учитывается параметр Reach, т.е. скольких пользователей затронет изменение."
   ]
  },
  {
   "cell_type": "markdown",
   "metadata": {},
   "source": [
    "## Анализ A/B-теста"
   ]
  },
  {
   "cell_type": "markdown",
   "metadata": {},
   "source": [
    "Мы провели A/B-тест и получили результаты, которые описаны в файлах orders и visitors."
   ]
  },
  {
   "cell_type": "markdown",
   "metadata": {},
   "source": [
    "### Изучение данных из файла"
   ]
  },
  {
   "cell_type": "markdown",
   "metadata": {},
   "source": [
    "**Прочитаем** файлы и **сохраним** их в переменных."
   ]
  },
  {
   "cell_type": "code",
   "execution_count": 9,
   "metadata": {},
   "outputs": [],
   "source": [
    "try:\n",
    "    orders = pd.read_csv('/datasets/orders.csv', sep=',') # файл с заказами\n",
    "    visitors = pd.read_csv('/datasets/visitors.csv', sep=',') # файл с пользователями\n",
    "except:\n",
    "    orders = pd.read_csv('C:/Users/au21524/Documents/03_Jupyter/YP/Projects/08_AB_test_results/orders.csv', sep=',')\n",
    "    visitors = pd.read_csv('C:/Users/au21524/Documents/03_Jupyter/YP/Projects/08_AB_test_results/visitors.csv', sep=',')\n",
    "    \n",
    "orders['date'] = orders['date'].map(\n",
    "    lambda x: dt.datetime.strptime(x, '%Y-%m-%d')\n",
    ")\n",
    "\n",
    "visitors['date'] = visitors['date'].map(\n",
    "    lambda x: dt.datetime.strptime(x, '%Y-%m-%d')\n",
    ")"
   ]
  },
  {
   "cell_type": "markdown",
   "metadata": {},
   "source": [
    "Изучим файлы, применив функцию для изучения."
   ]
  },
  {
   "cell_type": "code",
   "execution_count": 10,
   "metadata": {
    "scrolled": true
   },
   "outputs": [
    {
     "data": {
      "text/html": [
       "<div>\n",
       "<style scoped>\n",
       "    .dataframe tbody tr th:only-of-type {\n",
       "        vertical-align: middle;\n",
       "    }\n",
       "\n",
       "    .dataframe tbody tr th {\n",
       "        vertical-align: top;\n",
       "    }\n",
       "\n",
       "    .dataframe thead th {\n",
       "        text-align: right;\n",
       "    }\n",
       "</style>\n",
       "<table border=\"1\" class=\"dataframe\">\n",
       "  <thead>\n",
       "    <tr style=\"text-align: right;\">\n",
       "      <th></th>\n",
       "      <th>transactionId</th>\n",
       "      <th>visitorId</th>\n",
       "      <th>date</th>\n",
       "      <th>revenue</th>\n",
       "      <th>group</th>\n",
       "    </tr>\n",
       "  </thead>\n",
       "  <tbody>\n",
       "    <tr>\n",
       "      <th>0</th>\n",
       "      <td>3667963787</td>\n",
       "      <td>3312258926</td>\n",
       "      <td>2019-08-15</td>\n",
       "      <td>1650</td>\n",
       "      <td>B</td>\n",
       "    </tr>\n",
       "    <tr>\n",
       "      <th>1</th>\n",
       "      <td>2804400009</td>\n",
       "      <td>3642806036</td>\n",
       "      <td>2019-08-15</td>\n",
       "      <td>730</td>\n",
       "      <td>B</td>\n",
       "    </tr>\n",
       "    <tr>\n",
       "      <th>2</th>\n",
       "      <td>2961555356</td>\n",
       "      <td>4069496402</td>\n",
       "      <td>2019-08-15</td>\n",
       "      <td>400</td>\n",
       "      <td>A</td>\n",
       "    </tr>\n",
       "    <tr>\n",
       "      <th>3</th>\n",
       "      <td>3797467345</td>\n",
       "      <td>1196621759</td>\n",
       "      <td>2019-08-15</td>\n",
       "      <td>9759</td>\n",
       "      <td>B</td>\n",
       "    </tr>\n",
       "    <tr>\n",
       "      <th>4</th>\n",
       "      <td>2282983706</td>\n",
       "      <td>2322279887</td>\n",
       "      <td>2019-08-15</td>\n",
       "      <td>2308</td>\n",
       "      <td>B</td>\n",
       "    </tr>\n",
       "  </tbody>\n",
       "</table>\n",
       "</div>"
      ],
      "text/plain": [
       "   transactionId   visitorId       date  revenue group\n",
       "0     3667963787  3312258926 2019-08-15     1650     B\n",
       "1     2804400009  3642806036 2019-08-15      730     B\n",
       "2     2961555356  4069496402 2019-08-15      400     A\n",
       "3     3797467345  1196621759 2019-08-15     9759     B\n",
       "4     2282983706  2322279887 2019-08-15     2308     B"
      ]
     },
     "metadata": {},
     "output_type": "display_data"
    },
    {
     "data": {
      "text/html": [
       "<div>\n",
       "<style scoped>\n",
       "    .dataframe tbody tr th:only-of-type {\n",
       "        vertical-align: middle;\n",
       "    }\n",
       "\n",
       "    .dataframe tbody tr th {\n",
       "        vertical-align: top;\n",
       "    }\n",
       "\n",
       "    .dataframe thead th {\n",
       "        text-align: right;\n",
       "    }\n",
       "</style>\n",
       "<table border=\"1\" class=\"dataframe\">\n",
       "  <thead>\n",
       "    <tr style=\"text-align: right;\">\n",
       "      <th></th>\n",
       "      <th>transactionId</th>\n",
       "      <th>visitorId</th>\n",
       "      <th>date</th>\n",
       "      <th>revenue</th>\n",
       "      <th>group</th>\n",
       "    </tr>\n",
       "  </thead>\n",
       "  <tbody>\n",
       "    <tr>\n",
       "      <th>1192</th>\n",
       "      <td>2662137336</td>\n",
       "      <td>3733762160</td>\n",
       "      <td>2019-08-14</td>\n",
       "      <td>6490</td>\n",
       "      <td>B</td>\n",
       "    </tr>\n",
       "    <tr>\n",
       "      <th>1193</th>\n",
       "      <td>2203539145</td>\n",
       "      <td>370388673</td>\n",
       "      <td>2019-08-14</td>\n",
       "      <td>3190</td>\n",
       "      <td>A</td>\n",
       "    </tr>\n",
       "    <tr>\n",
       "      <th>1194</th>\n",
       "      <td>1807773912</td>\n",
       "      <td>573423106</td>\n",
       "      <td>2019-08-14</td>\n",
       "      <td>10550</td>\n",
       "      <td>A</td>\n",
       "    </tr>\n",
       "    <tr>\n",
       "      <th>1195</th>\n",
       "      <td>1947021204</td>\n",
       "      <td>1614305549</td>\n",
       "      <td>2019-08-14</td>\n",
       "      <td>100</td>\n",
       "      <td>A</td>\n",
       "    </tr>\n",
       "    <tr>\n",
       "      <th>1196</th>\n",
       "      <td>3936777065</td>\n",
       "      <td>2108080724</td>\n",
       "      <td>2019-08-15</td>\n",
       "      <td>202740</td>\n",
       "      <td>B</td>\n",
       "    </tr>\n",
       "  </tbody>\n",
       "</table>\n",
       "</div>"
      ],
      "text/plain": [
       "      transactionId   visitorId       date  revenue group\n",
       "1192     2662137336  3733762160 2019-08-14     6490     B\n",
       "1193     2203539145   370388673 2019-08-14     3190     A\n",
       "1194     1807773912   573423106 2019-08-14    10550     A\n",
       "1195     1947021204  1614305549 2019-08-14      100     A\n",
       "1196     3936777065  2108080724 2019-08-15   202740     B"
      ]
     },
     "metadata": {},
     "output_type": "display_data"
    },
    {
     "name": "stdout",
     "output_type": "stream",
     "text": [
      "<class 'pandas.core.frame.DataFrame'>\n",
      "RangeIndex: 1197 entries, 0 to 1196\n",
      "Data columns (total 5 columns):\n",
      " #   Column         Non-Null Count  Dtype         \n",
      "---  ------         --------------  -----         \n",
      " 0   transactionId  1197 non-null   int64         \n",
      " 1   visitorId      1197 non-null   int64         \n",
      " 2   date           1197 non-null   datetime64[ns]\n",
      " 3   revenue        1197 non-null   int64         \n",
      " 4   group          1197 non-null   object        \n",
      "dtypes: datetime64[ns](1), int64(3), object(1)\n",
      "memory usage: 46.9+ KB\n"
     ]
    },
    {
     "data": {
      "text/plain": [
       "None"
      ]
     },
     "metadata": {},
     "output_type": "display_data"
    },
    {
     "data": {
      "text/plain": [
       "0"
      ]
     },
     "metadata": {},
     "output_type": "display_data"
    }
   ],
   "source": [
    "show_table_info(orders)"
   ]
  },
  {
   "cell_type": "markdown",
   "metadata": {},
   "source": [
    "Столбцы датафрейма **orders:**\n",
    "* transactionId — идентификатор заказа;\n",
    "* visitorId — идентификатор пользователя, совершившего заказ;\n",
    "* date — дата заказа;\n",
    "* revenue — выручка с заказа;\n",
    "* group — группа A/B-теста (A или B).\n",
    "\n",
    "Дубликатов нет."
   ]
  },
  {
   "cell_type": "code",
   "execution_count": 11,
   "metadata": {},
   "outputs": [
    {
     "data": {
      "text/html": [
       "<div>\n",
       "<style scoped>\n",
       "    .dataframe tbody tr th:only-of-type {\n",
       "        vertical-align: middle;\n",
       "    }\n",
       "\n",
       "    .dataframe tbody tr th {\n",
       "        vertical-align: top;\n",
       "    }\n",
       "\n",
       "    .dataframe thead th {\n",
       "        text-align: right;\n",
       "    }\n",
       "</style>\n",
       "<table border=\"1\" class=\"dataframe\">\n",
       "  <thead>\n",
       "    <tr style=\"text-align: right;\">\n",
       "      <th></th>\n",
       "      <th>date</th>\n",
       "      <th>group</th>\n",
       "      <th>visitors</th>\n",
       "    </tr>\n",
       "  </thead>\n",
       "  <tbody>\n",
       "    <tr>\n",
       "      <th>0</th>\n",
       "      <td>2019-08-01</td>\n",
       "      <td>A</td>\n",
       "      <td>719</td>\n",
       "    </tr>\n",
       "    <tr>\n",
       "      <th>1</th>\n",
       "      <td>2019-08-02</td>\n",
       "      <td>A</td>\n",
       "      <td>619</td>\n",
       "    </tr>\n",
       "    <tr>\n",
       "      <th>2</th>\n",
       "      <td>2019-08-03</td>\n",
       "      <td>A</td>\n",
       "      <td>507</td>\n",
       "    </tr>\n",
       "    <tr>\n",
       "      <th>3</th>\n",
       "      <td>2019-08-04</td>\n",
       "      <td>A</td>\n",
       "      <td>717</td>\n",
       "    </tr>\n",
       "    <tr>\n",
       "      <th>4</th>\n",
       "      <td>2019-08-05</td>\n",
       "      <td>A</td>\n",
       "      <td>756</td>\n",
       "    </tr>\n",
       "  </tbody>\n",
       "</table>\n",
       "</div>"
      ],
      "text/plain": [
       "        date group  visitors\n",
       "0 2019-08-01     A       719\n",
       "1 2019-08-02     A       619\n",
       "2 2019-08-03     A       507\n",
       "3 2019-08-04     A       717\n",
       "4 2019-08-05     A       756"
      ]
     },
     "metadata": {},
     "output_type": "display_data"
    },
    {
     "data": {
      "text/html": [
       "<div>\n",
       "<style scoped>\n",
       "    .dataframe tbody tr th:only-of-type {\n",
       "        vertical-align: middle;\n",
       "    }\n",
       "\n",
       "    .dataframe tbody tr th {\n",
       "        vertical-align: top;\n",
       "    }\n",
       "\n",
       "    .dataframe thead th {\n",
       "        text-align: right;\n",
       "    }\n",
       "</style>\n",
       "<table border=\"1\" class=\"dataframe\">\n",
       "  <thead>\n",
       "    <tr style=\"text-align: right;\">\n",
       "      <th></th>\n",
       "      <th>date</th>\n",
       "      <th>group</th>\n",
       "      <th>visitors</th>\n",
       "    </tr>\n",
       "  </thead>\n",
       "  <tbody>\n",
       "    <tr>\n",
       "      <th>57</th>\n",
       "      <td>2019-08-27</td>\n",
       "      <td>B</td>\n",
       "      <td>720</td>\n",
       "    </tr>\n",
       "    <tr>\n",
       "      <th>58</th>\n",
       "      <td>2019-08-28</td>\n",
       "      <td>B</td>\n",
       "      <td>654</td>\n",
       "    </tr>\n",
       "    <tr>\n",
       "      <th>59</th>\n",
       "      <td>2019-08-29</td>\n",
       "      <td>B</td>\n",
       "      <td>531</td>\n",
       "    </tr>\n",
       "    <tr>\n",
       "      <th>60</th>\n",
       "      <td>2019-08-30</td>\n",
       "      <td>B</td>\n",
       "      <td>490</td>\n",
       "    </tr>\n",
       "    <tr>\n",
       "      <th>61</th>\n",
       "      <td>2019-08-31</td>\n",
       "      <td>B</td>\n",
       "      <td>718</td>\n",
       "    </tr>\n",
       "  </tbody>\n",
       "</table>\n",
       "</div>"
      ],
      "text/plain": [
       "         date group  visitors\n",
       "57 2019-08-27     B       720\n",
       "58 2019-08-28     B       654\n",
       "59 2019-08-29     B       531\n",
       "60 2019-08-30     B       490\n",
       "61 2019-08-31     B       718"
      ]
     },
     "metadata": {},
     "output_type": "display_data"
    },
    {
     "name": "stdout",
     "output_type": "stream",
     "text": [
      "<class 'pandas.core.frame.DataFrame'>\n",
      "RangeIndex: 62 entries, 0 to 61\n",
      "Data columns (total 3 columns):\n",
      " #   Column    Non-Null Count  Dtype         \n",
      "---  ------    --------------  -----         \n",
      " 0   date      62 non-null     datetime64[ns]\n",
      " 1   group     62 non-null     object        \n",
      " 2   visitors  62 non-null     int64         \n",
      "dtypes: datetime64[ns](1), int64(1), object(1)\n",
      "memory usage: 1.6+ KB\n"
     ]
    },
    {
     "data": {
      "text/plain": [
       "None"
      ]
     },
     "metadata": {},
     "output_type": "display_data"
    },
    {
     "data": {
      "text/plain": [
       "0"
      ]
     },
     "metadata": {},
     "output_type": "display_data"
    }
   ],
   "source": [
    "show_table_info(visitors)"
   ]
  },
  {
   "cell_type": "markdown",
   "metadata": {},
   "source": [
    "Столбцы датафрейма **visitors:**\n",
    "* date — дата;\n",
    "* group — группа A/B-теста;\n",
    "* visitors — количество пользователей в указанную дату в указанной группе A/B-теста\n",
    "\n",
    "Дубликатов нет.\n",
    "\n",
    "Проверим, попали ли какие-либо пользователи и в группу А и в группу В."
   ]
  },
  {
   "cell_type": "code",
   "execution_count": 12,
   "metadata": {},
   "outputs": [
    {
     "data": {
      "text/plain": [
       "group    1031\n",
       "dtype: int64"
      ]
     },
     "execution_count": 12,
     "metadata": {},
     "output_type": "execute_result"
    }
   ],
   "source": [
    "(orders.groupby('visitorId').agg({'group':'nunique'})).count()"
   ]
  },
  {
   "cell_type": "code",
   "execution_count": 13,
   "metadata": {
    "scrolled": true
   },
   "outputs": [
    {
     "data": {
      "text/plain": [
       "group    58\n",
       "dtype: int64"
      ]
     },
     "execution_count": 13,
     "metadata": {},
     "output_type": "execute_result"
    }
   ],
   "source": [
    "(orders.groupby('visitorId').agg({'group':'nunique'}).query('group > 1')).count()"
   ]
  },
  {
   "cell_type": "markdown",
   "metadata": {},
   "source": [
    "Таких пользователей всего 58, т.е. чуть более 5%. Это не много, не будем их удалять. \n",
    "Тем не менее необходимо сообщить о таких пользователях команде, занимающейся сбором информации по тесту, возможно есть какие-то технические проблемы.\n",
    "\n",
    "Проверим как распредделены пользователи по группам."
   ]
  },
  {
   "cell_type": "code",
   "execution_count": 14,
   "metadata": {
    "scrolled": false
   },
   "outputs": [
    {
     "data": {
      "text/html": [
       "<div>\n",
       "<style scoped>\n",
       "    .dataframe tbody tr th:only-of-type {\n",
       "        vertical-align: middle;\n",
       "    }\n",
       "\n",
       "    .dataframe tbody tr th {\n",
       "        vertical-align: top;\n",
       "    }\n",
       "\n",
       "    .dataframe thead th {\n",
       "        text-align: right;\n",
       "    }\n",
       "</style>\n",
       "<table border=\"1\" class=\"dataframe\">\n",
       "  <thead>\n",
       "    <tr style=\"text-align: right;\">\n",
       "      <th></th>\n",
       "      <th>visitorId</th>\n",
       "    </tr>\n",
       "    <tr>\n",
       "      <th>group</th>\n",
       "      <th></th>\n",
       "    </tr>\n",
       "  </thead>\n",
       "  <tbody>\n",
       "    <tr>\n",
       "      <th>A</th>\n",
       "      <td>503</td>\n",
       "    </tr>\n",
       "    <tr>\n",
       "      <th>B</th>\n",
       "      <td>586</td>\n",
       "    </tr>\n",
       "  </tbody>\n",
       "</table>\n",
       "</div>"
      ],
      "text/plain": [
       "       visitorId\n",
       "group           \n",
       "A            503\n",
       "B            586"
      ]
     },
     "execution_count": 14,
     "metadata": {},
     "output_type": "execute_result"
    }
   ],
   "source": [
    "orders.groupby(['group']).agg({'visitorId':'nunique'})"
   ]
  },
  {
   "cell_type": "markdown",
   "metadata": {},
   "source": [
    "В группе В больше пользователей совершили покупки. Но разница не большая."
   ]
  },
  {
   "cell_type": "markdown",
   "metadata": {},
   "source": [
    "### График кумулятивной выручки по группам"
   ]
  },
  {
   "cell_type": "code",
   "execution_count": 15,
   "metadata": {},
   "outputs": [
    {
     "data": {
      "text/html": [
       "<div>\n",
       "<style scoped>\n",
       "    .dataframe tbody tr th:only-of-type {\n",
       "        vertical-align: middle;\n",
       "    }\n",
       "\n",
       "    .dataframe tbody tr th {\n",
       "        vertical-align: top;\n",
       "    }\n",
       "\n",
       "    .dataframe thead th {\n",
       "        text-align: right;\n",
       "    }\n",
       "</style>\n",
       "<table border=\"1\" class=\"dataframe\">\n",
       "  <thead>\n",
       "    <tr style=\"text-align: right;\">\n",
       "      <th></th>\n",
       "      <th>date</th>\n",
       "      <th>group</th>\n",
       "      <th>orders</th>\n",
       "      <th>buyers</th>\n",
       "      <th>revenue</th>\n",
       "      <th>visitors</th>\n",
       "    </tr>\n",
       "  </thead>\n",
       "  <tbody>\n",
       "    <tr>\n",
       "      <th>0</th>\n",
       "      <td>2019-08-01</td>\n",
       "      <td>A</td>\n",
       "      <td>24</td>\n",
       "      <td>20</td>\n",
       "      <td>148579</td>\n",
       "      <td>719</td>\n",
       "    </tr>\n",
       "    <tr>\n",
       "      <th>1</th>\n",
       "      <td>2019-08-01</td>\n",
       "      <td>B</td>\n",
       "      <td>21</td>\n",
       "      <td>20</td>\n",
       "      <td>101217</td>\n",
       "      <td>713</td>\n",
       "    </tr>\n",
       "    <tr>\n",
       "      <th>2</th>\n",
       "      <td>2019-08-02</td>\n",
       "      <td>A</td>\n",
       "      <td>44</td>\n",
       "      <td>38</td>\n",
       "      <td>242401</td>\n",
       "      <td>1338</td>\n",
       "    </tr>\n",
       "    <tr>\n",
       "      <th>3</th>\n",
       "      <td>2019-08-02</td>\n",
       "      <td>B</td>\n",
       "      <td>45</td>\n",
       "      <td>43</td>\n",
       "      <td>266748</td>\n",
       "      <td>1294</td>\n",
       "    </tr>\n",
       "    <tr>\n",
       "      <th>4</th>\n",
       "      <td>2019-08-03</td>\n",
       "      <td>A</td>\n",
       "      <td>68</td>\n",
       "      <td>62</td>\n",
       "      <td>354874</td>\n",
       "      <td>1845</td>\n",
       "    </tr>\n",
       "  </tbody>\n",
       "</table>\n",
       "</div>"
      ],
      "text/plain": [
       "        date group  orders  buyers  revenue  visitors\n",
       "0 2019-08-01     A      24      20   148579       719\n",
       "1 2019-08-01     B      21      20   101217       713\n",
       "2 2019-08-02     A      44      38   242401      1338\n",
       "3 2019-08-02     B      45      43   266748      1294\n",
       "4 2019-08-03     A      68      62   354874      1845"
      ]
     },
     "metadata": {},
     "output_type": "display_data"
    },
    {
     "data": {
      "text/html": [
       "<div>\n",
       "<style scoped>\n",
       "    .dataframe tbody tr th:only-of-type {\n",
       "        vertical-align: middle;\n",
       "    }\n",
       "\n",
       "    .dataframe tbody tr th {\n",
       "        vertical-align: top;\n",
       "    }\n",
       "\n",
       "    .dataframe thead th {\n",
       "        text-align: right;\n",
       "    }\n",
       "</style>\n",
       "<table border=\"1\" class=\"dataframe\">\n",
       "  <thead>\n",
       "    <tr style=\"text-align: right;\">\n",
       "      <th></th>\n",
       "      <th>date</th>\n",
       "      <th>group</th>\n",
       "      <th>orders</th>\n",
       "      <th>buyers</th>\n",
       "      <th>revenue</th>\n",
       "      <th>visitors</th>\n",
       "    </tr>\n",
       "  </thead>\n",
       "  <tbody>\n",
       "    <tr>\n",
       "      <th>57</th>\n",
       "      <td>2019-08-29</td>\n",
       "      <td>B</td>\n",
       "      <td>596</td>\n",
       "      <td>544</td>\n",
       "      <td>5559398</td>\n",
       "      <td>17708</td>\n",
       "    </tr>\n",
       "    <tr>\n",
       "      <th>58</th>\n",
       "      <td>2019-08-30</td>\n",
       "      <td>A</td>\n",
       "      <td>545</td>\n",
       "      <td>493</td>\n",
       "      <td>4022970</td>\n",
       "      <td>18037</td>\n",
       "    </tr>\n",
       "    <tr>\n",
       "      <th>59</th>\n",
       "      <td>2019-08-30</td>\n",
       "      <td>B</td>\n",
       "      <td>620</td>\n",
       "      <td>567</td>\n",
       "      <td>5774631</td>\n",
       "      <td>18198</td>\n",
       "    </tr>\n",
       "    <tr>\n",
       "      <th>60</th>\n",
       "      <td>2019-08-31</td>\n",
       "      <td>A</td>\n",
       "      <td>557</td>\n",
       "      <td>503</td>\n",
       "      <td>4084803</td>\n",
       "      <td>18736</td>\n",
       "    </tr>\n",
       "    <tr>\n",
       "      <th>61</th>\n",
       "      <td>2019-08-31</td>\n",
       "      <td>B</td>\n",
       "      <td>640</td>\n",
       "      <td>586</td>\n",
       "      <td>5907760</td>\n",
       "      <td>18916</td>\n",
       "    </tr>\n",
       "  </tbody>\n",
       "</table>\n",
       "</div>"
      ],
      "text/plain": [
       "         date group  orders  buyers  revenue  visitors\n",
       "57 2019-08-29     B     596     544  5559398     17708\n",
       "58 2019-08-30     A     545     493  4022970     18037\n",
       "59 2019-08-30     B     620     567  5774631     18198\n",
       "60 2019-08-31     A     557     503  4084803     18736\n",
       "61 2019-08-31     B     640     586  5907760     18916"
      ]
     },
     "metadata": {},
     "output_type": "display_data"
    }
   ],
   "source": [
    "datesGroups = orders[['date','group']].drop_duplicates()\n",
    "\n",
    "ordersAggregated = datesGroups.apply(lambda x: orders[np.logical_and(orders['date'] <= x['date'], orders['group'] == x['group'])]\\\n",
    ".agg({'date' : 'max', 'group' : 'max', 'transactionId' : 'nunique', 'visitorId' : 'nunique', 'revenue' : 'sum'}), axis=1).sort_values(by=['date','group'])\n",
    "\n",
    "visitorsAggregated = datesGroups.apply(lambda x: visitors[np.logical_and(visitors['date'] <= x['date'], visitors['group'] == x['group'])].agg({'date' : 'max', 'group' : 'max', 'visitors' : 'sum'}), axis=1).sort_values(by=['date','group'])\n",
    "\n",
    "# создаем массив уникальных пар значений дат и групп теста\n",
    "datesGroups = orders[['date','group']].drop_duplicates()\n",
    "\n",
    "# получаем агрегированные кумулятивные по дням данные о заказах \n",
    "ordersAggregated = datesGroups.apply(lambda x: orders[np.logical_and(orders['date'] <= x['date'], orders['group'] == x['group'])].agg({'date' : 'max', 'group' : 'max', 'transactionId' : 'nunique', 'visitorId' : 'nunique', 'revenue' : 'sum'}), axis=1).sort_values(by=['date','group'])\n",
    "\n",
    "# получаем агрегированные кумулятивные по дням данные о посетителях интернет-магазина \n",
    "visitorsAggregated = datesGroups.apply(lambda x: visitors[np.logical_and(visitors['date'] <= x['date'], visitors['group'] == x['group'])].agg({'date' : 'max', 'group' : 'max', 'visitors' : 'sum'}), axis=1).sort_values(by=['date','group'])\n",
    "\n",
    "# объединяем кумулятивные данные в одной таблице и присваиваем ее столбцам понятные названия\n",
    "cumulativeData = ordersAggregated.merge(visitorsAggregated, left_on=['date', 'group'], right_on=['date', 'group'])\n",
    "cumulativeData.columns = ['date', 'group', 'orders', 'buyers', 'revenue', 'visitors']\n",
    "\n",
    "display(cumulativeData.head(5))\n",
    "display(cumulativeData.tail(5))"
   ]
  },
  {
   "cell_type": "code",
   "execution_count": 16,
   "metadata": {
    "scrolled": true
   },
   "outputs": [
    {
     "data": {
      "image/png": "[encoded data removed]",
      "text/plain": [
       "<Figure size 432x288 with 1 Axes>"
      ]
     },
     "metadata": {
      "needs_background": "light"
     },
     "output_type": "display_data"
    }
   ],
   "source": [
    "# датафрейм с кумулятивным количеством заказов и кумулятивной выручкой по дням в группе А\n",
    "cumulativeRevenueA = cumulativeData[cumulativeData['group']=='A'][['date','revenue', 'orders']]\n",
    "\n",
    "# датафрейм с кумулятивным количеством заказов и кумулятивной выручкой по дням в группе B\n",
    "cumulativeRevenueB = cumulativeData[cumulativeData['group']=='B'][['date','revenue', 'orders']]\n",
    "\n",
    "# Строим график выручки группы А\n",
    "plt.plot(cumulativeRevenueA['date'], cumulativeRevenueA['revenue'], label='A')\n",
    "\n",
    "# Строим график выручки группы B\n",
    "plt.plot(cumulativeRevenueB['date'], cumulativeRevenueB['revenue'], label='B')\n",
    "plt.xticks(rotation=45)\n",
    "plt.legend()\n",
    "plt.ylabel('Млн, у.е.')\n",
    "plt.xlabel('Дата заказа')\n",
    "plt.title('Кумулятивная выручка по группам');"
   ]
  },
  {
   "cell_type": "markdown",
   "metadata": {},
   "source": [
    "Сегмент В на протяжении всего теста показывает себя лучше, чем сегмент А. Разрыв увеличивается во второй половине месяца."
   ]
  },
  {
   "cell_type": "markdown",
   "metadata": {},
   "source": [
    "### График кумулятивного среднего чека по группам"
   ]
  },
  {
   "cell_type": "code",
   "execution_count": 17,
   "metadata": {
    "scrolled": true
   },
   "outputs": [
    {
     "data": {
      "image/png": "[encoded data removed]",
      "text/plain": [
       "<Figure size 432x288 with 1 Axes>"
      ]
     },
     "metadata": {
      "needs_background": "light"
     },
     "output_type": "display_data"
    }
   ],
   "source": [
    "plt.plot(cumulativeRevenueA['date'], cumulativeRevenueA['revenue']/cumulativeRevenueA['orders'], label='A')\n",
    "plt.plot(cumulativeRevenueB['date'], cumulativeRevenueB['revenue']/cumulativeRevenueB['orders'], label='B')\n",
    "plt.xticks(rotation=45)\n",
    "plt.legend()\n",
    "plt.ylabel('у.е.')\n",
    "plt.xlabel('Дата заказа')\n",
    "plt.title('Кумулятивный средний чек по группам');"
   ]
  },
  {
   "cell_type": "markdown",
   "metadata": {},
   "source": [
    "Сегмент В почти всегла лидирует. Есть один резкий всплеск, скорее всего это аномально большой заказ. Проанализируем эти выбросы позже."
   ]
  },
  {
   "cell_type": "markdown",
   "metadata": {},
   "source": [
    "### График относительного изменения кумулятивного среднего чека группы B к группе A"
   ]
  },
  {
   "cell_type": "code",
   "execution_count": 18,
   "metadata": {},
   "outputs": [
    {
     "data": {
      "image/png": "[encoded data removed]",
      "text/plain": [
       "<Figure size 432x288 with 1 Axes>"
      ]
     },
     "metadata": {
      "needs_background": "light"
     },
     "output_type": "display_data"
    }
   ],
   "source": [
    "# собираем данные в одном датафрейме\n",
    "mergedCumulativeRevenue = cumulativeRevenueA.merge(cumulativeRevenueB, left_on='date', right_on='date', how='left', suffixes=['A', 'B'])\n",
    "\n",
    "# cтроим отношение средних чеков\n",
    "plt.plot(mergedCumulativeRevenue['date'], (mergedCumulativeRevenue['revenueB']/mergedCumulativeRevenue['ordersB'])/(mergedCumulativeRevenue['revenueA']/mergedCumulativeRevenue['ordersA'])-1)\n",
    "plt.xticks(rotation=45)\n",
    "# добавляем ось X\n",
    "plt.axhline(y=0, color='black', linestyle='--') \n",
    "plt.ylabel('Доля')\n",
    "plt.xlabel('Дата заказа')\n",
    "plt.title('Относительное изменение кумулятивного среднего чека группы B к группе A');"
   ]
  },
  {
   "cell_type": "markdown",
   "metadata": {},
   "source": [
    "Результаты теста значительно и резко менялись несколько раз. Скорее всего это аномальные заказы."
   ]
  },
  {
   "cell_type": "markdown",
   "metadata": {},
   "source": [
    "### График кумулятивной конверсии по группам"
   ]
  },
  {
   "cell_type": "code",
   "execution_count": 19,
   "metadata": {
    "scrolled": true
   },
   "outputs": [
    {
     "data": {
      "image/png": "[encoded data removed]",
      "text/plain": [
       "<Figure size 432x288 with 1 Axes>"
      ]
     },
     "metadata": {
      "needs_background": "light"
     },
     "output_type": "display_data"
    }
   ],
   "source": [
    "# считаем кумулятивную конверсию\n",
    "cumulativeData['conversion'] = cumulativeData['orders']/cumulativeData['visitors']\n",
    "\n",
    "# отделяем данные по группе A\n",
    "cumulativeDataA = cumulativeData[cumulativeData['group']=='A']\n",
    "\n",
    "# отделяем данные по группе B\n",
    "cumulativeDataB = cumulativeData[cumulativeData['group']=='B']\n",
    "\n",
    "# строим графики\n",
    "plt.plot(cumulativeDataA['date'], cumulativeDataA['conversion'], label='A')\n",
    "plt.plot(cumulativeDataB['date'], cumulativeDataB['conversion'], label='B')\n",
    "plt.legend()\n",
    "plt.xticks(rotation=45)\n",
    "# задаем масштаб осей\n",
    "plt.axis([\"2019-08-01\", '2019-08-31', 0.02, 0.05]) \n",
    "plt.ylabel('Конверсия')\n",
    "plt.xlabel('Дата заказа')\n",
    "plt.title('Кумулятивная конверсия по группам');"
   ]
  },
  {
   "cell_type": "markdown",
   "metadata": {},
   "source": [
    "В самом начале теста группа А показывала болшую конверсию, но постепенно группа В заняла лидирующие позиции. "
   ]
  },
  {
   "cell_type": "markdown",
   "metadata": {},
   "source": [
    "### График относительного изменения кумулятивной конверсии группы B к группе A"
   ]
  },
  {
   "cell_type": "code",
   "execution_count": 20,
   "metadata": {
    "scrolled": false
   },
   "outputs": [
    {
     "data": {
      "image/png": "[encoded data removed]",
      "text/plain": [
       "<Figure size 432x288 with 1 Axes>"
      ]
     },
     "metadata": {
      "needs_background": "light"
     },
     "output_type": "display_data"
    }
   ],
   "source": [
    "mergedCumulativeConversions = cumulativeDataA[['date','conversion']].merge(cumulativeDataB[['date','conversion']], left_on='date', right_on='date', how='left', suffixes=['A', 'B'])\n",
    "\n",
    "plt.plot(mergedCumulativeConversions['date'], mergedCumulativeConversions['conversionB']/mergedCumulativeConversions['conversionA']-1)\n",
    "plt.xticks(rotation=45)\n",
    "\n",
    "plt.axhline(y=0, color='black', linestyle='--')\n",
    "plt.axhline(y=0.2, color='grey', linestyle='--')\n",
    "plt.ylabel('Доля')\n",
    "plt.xlabel('Дата заказа')\n",
    "plt.title('Относительное изменение кумулятивной конверсии группы B к группе A');"
   ]
  },
  {
   "cell_type": "markdown",
   "metadata": {},
   "source": [
    "Почти с самого начала теста группа В лидирует по конверсии: резко растет, затем постепенно падает, так и не зафиксировавшись."
   ]
  },
  {
   "cell_type": "markdown",
   "metadata": {},
   "source": [
    "### График количества заказов по пользователям"
   ]
  },
  {
   "cell_type": "code",
   "execution_count": 21,
   "metadata": {},
   "outputs": [
    {
     "data": {
      "text/html": [
       "<div>\n",
       "<style scoped>\n",
       "    .dataframe tbody tr th:only-of-type {\n",
       "        vertical-align: middle;\n",
       "    }\n",
       "\n",
       "    .dataframe tbody tr th {\n",
       "        vertical-align: top;\n",
       "    }\n",
       "\n",
       "    .dataframe thead th {\n",
       "        text-align: right;\n",
       "    }\n",
       "</style>\n",
       "<table border=\"1\" class=\"dataframe\">\n",
       "  <thead>\n",
       "    <tr style=\"text-align: right;\">\n",
       "      <th></th>\n",
       "      <th>userId</th>\n",
       "      <th>orders</th>\n",
       "    </tr>\n",
       "  </thead>\n",
       "  <tbody>\n",
       "    <tr>\n",
       "      <th>1023</th>\n",
       "      <td>4256040402</td>\n",
       "      <td>11</td>\n",
       "    </tr>\n",
       "    <tr>\n",
       "      <th>591</th>\n",
       "      <td>2458001652</td>\n",
       "      <td>11</td>\n",
       "    </tr>\n",
       "    <tr>\n",
       "      <th>569</th>\n",
       "      <td>2378935119</td>\n",
       "      <td>9</td>\n",
       "    </tr>\n",
       "    <tr>\n",
       "      <th>487</th>\n",
       "      <td>2038680547</td>\n",
       "      <td>8</td>\n",
       "    </tr>\n",
       "    <tr>\n",
       "      <th>44</th>\n",
       "      <td>199603092</td>\n",
       "      <td>5</td>\n",
       "    </tr>\n",
       "    <tr>\n",
       "      <th>744</th>\n",
       "      <td>3062433592</td>\n",
       "      <td>5</td>\n",
       "    </tr>\n",
       "    <tr>\n",
       "      <th>55</th>\n",
       "      <td>237748145</td>\n",
       "      <td>5</td>\n",
       "    </tr>\n",
       "    <tr>\n",
       "      <th>917</th>\n",
       "      <td>3803269165</td>\n",
       "      <td>5</td>\n",
       "    </tr>\n",
       "    <tr>\n",
       "      <th>299</th>\n",
       "      <td>1230306981</td>\n",
       "      <td>5</td>\n",
       "    </tr>\n",
       "    <tr>\n",
       "      <th>897</th>\n",
       "      <td>3717692402</td>\n",
       "      <td>5</td>\n",
       "    </tr>\n",
       "  </tbody>\n",
       "</table>\n",
       "</div>"
      ],
      "text/plain": [
       "          userId  orders\n",
       "1023  4256040402      11\n",
       "591   2458001652      11\n",
       "569   2378935119       9\n",
       "487   2038680547       8\n",
       "44     199603092       5\n",
       "744   3062433592       5\n",
       "55     237748145       5\n",
       "917   3803269165       5\n",
       "299   1230306981       5\n",
       "897   3717692402       5"
      ]
     },
     "execution_count": 21,
     "metadata": {},
     "output_type": "execute_result"
    }
   ],
   "source": [
    "ordersByUsers = (\n",
    "    orders.groupby('visitorId', as_index=False) # группируем заказы по пользователям\n",
    "    .agg({'transactionId': 'nunique'})\n",
    ") # считаем число уникальных заказов по сгруппированным данным\n",
    "ordersByUsers.columns = ['userId', 'orders']\n",
    "ordersByUsers.sort_values(by='orders', ascending=False).head(10) # сортируем по количеству заказов"
   ]
  },
  {
   "cell_type": "markdown",
   "metadata": {},
   "source": [
    "Построим гистограмму распределения числа заказов по пользователям методом hist()."
   ]
  },
  {
   "cell_type": "code",
   "execution_count": 22,
   "metadata": {
    "scrolled": true
   },
   "outputs": [
    {
     "data": {
      "image/png": "[encoded data removed]",
      "text/plain": [
       "<Figure size 432x288 with 1 Axes>"
      ]
     },
     "metadata": {
      "needs_background": "light"
     },
     "output_type": "display_data"
    }
   ],
   "source": [
    "plt.hist(ordersByUsers['orders'])\n",
    "plt.ylabel('Пользователей с этим количеством заказов')\n",
    "plt.xlabel('Количество заказов на одного пользователя')\n",
    "plt.title('Количество заказов по пользователям');"
   ]
  },
  {
   "cell_type": "markdown",
   "metadata": {},
   "source": [
    "Большинство пользователей совершило один заказ. Но есть пользователи, которые совершили 2, 3 и даже более заказов. Посмотрим распределение на другом графике."
   ]
  },
  {
   "cell_type": "markdown",
   "metadata": {},
   "source": [
    "Построим диаграмму методом scatter()."
   ]
  },
  {
   "cell_type": "code",
   "execution_count": 23,
   "metadata": {},
   "outputs": [
    {
     "data": {
      "image/png": "[encoded data removed]",
      "text/plain": [
       "<Figure size 432x288 with 1 Axes>"
      ]
     },
     "metadata": {
      "needs_background": "light"
     },
     "output_type": "display_data"
    }
   ],
   "source": [
    "# серия из чисел от 0 до количества наблюдений в ordersByUsers\n",
    "x_values = pd.Series(range(0, len(ordersByUsers)))\n",
    "\n",
    "plt.scatter(x_values, ordersByUsers['orders']) \n",
    "plt.ylabel('Количество заказов на одного пользователя')\n",
    "plt.xlabel('Пользователей с этим количеством заказов')\n",
    "plt.title('Количество заказов по пользователям');"
   ]
  },
  {
   "cell_type": "markdown",
   "metadata": {},
   "source": [
    "Пользователей, заказавших более 2 раз мало. Они могут быть аномальными.\n",
    "\n",
    "Чтобы выяснить это, посчитаем перцентили."
   ]
  },
  {
   "cell_type": "markdown",
   "metadata": {},
   "source": [
    "### 95-й и 99-й перцентили количества заказов на пользователя"
   ]
  },
  {
   "cell_type": "code",
   "execution_count": 24,
   "metadata": {},
   "outputs": [
    {
     "data": {
      "text/plain": [
       "array([2., 4.])"
      ]
     },
     "execution_count": 24,
     "metadata": {},
     "output_type": "execute_result"
    }
   ],
   "source": [
    "# находим перцентили\n",
    "np.percentile(ordersByUsers['orders'], [95, 99])"
   ]
  },
  {
   "cell_type": "markdown",
   "metadata": {},
   "source": [
    "Не более 5% пользователей совершили больше 2 заказов и не более 1% сделали более 4 заказов.\n",
    "\n",
    "Будем считать 2 заказа границей для выбросов.\n",
    "\n",
    "Создадим переменную orders_nb_percentile для хранения 95 персентиля и использования в дальнейшей аналитике."
   ]
  },
  {
   "cell_type": "code",
   "execution_count": 25,
   "metadata": {},
   "outputs": [
    {
     "data": {
      "text/plain": [
       "2"
      ]
     },
     "execution_count": 25,
     "metadata": {},
     "output_type": "execute_result"
    }
   ],
   "source": [
    "orders_nb_percentile = int(np.percentile(ordersByUsers['orders'], [95]))\n",
    "orders_nb_percentile"
   ]
  },
  {
   "cell_type": "markdown",
   "metadata": {},
   "source": [
    "### Точечный график стоимостей заказов"
   ]
  },
  {
   "cell_type": "code",
   "execution_count": 26,
   "metadata": {},
   "outputs": [
    {
     "data": {
      "image/png": "[encoded data removed]",
      "text/plain": [
       "<Figure size 432x288 with 1 Axes>"
      ]
     },
     "metadata": {
      "needs_background": "light"
     },
     "output_type": "display_data"
    }
   ],
   "source": [
    "# серия из чисел от 0 до количества наблюдений в orders\n",
    "x_values = pd.Series(range(0, len(orders['revenue'])))\n",
    "\n",
    "plt.scatter(x_values, orders['revenue']) \n",
    "\n",
    "plt.ylabel('Сумма заказа')\n",
    "plt.xlabel('Пользователей с этой суммой заказов')\n",
    "plt.title('Стоимость заказов');"
   ]
  },
  {
   "cell_type": "markdown",
   "metadata": {},
   "source": [
    "Есть 2 явных выброса в районе 1,3 млн и 200 000.\n",
    "\n",
    "Мы нашли заказ, который внес искажения на графики выше, т.е. наше предположение подтвердилось.\n",
    "\n",
    "Найдем перцентили."
   ]
  },
  {
   "cell_type": "markdown",
   "metadata": {},
   "source": [
    "###  95-й и 99-й перцентили стоимости заказов"
   ]
  },
  {
   "cell_type": "code",
   "execution_count": 27,
   "metadata": {},
   "outputs": [
    {
     "data": {
      "text/plain": [
       "array([28000. , 58233.2])"
      ]
     },
     "execution_count": 27,
     "metadata": {},
     "output_type": "execute_result"
    }
   ],
   "source": [
    "np.percentile(orders['revenue'], [95, 99])"
   ]
  },
  {
   "cell_type": "markdown",
   "metadata": {},
   "source": [
    "Лишь в 1% случаев стоимость заказов более 58 тысяч, а в 5% случаев соимость заказа более 28 тысяч.\n",
    "\n",
    "Т.к. мы уже взяли 95 перцентиль для фильтра по количеству заказов, то для отсечения аномалий в стоимости заказов возьмем 99 персентиль, т.е. 58 тысяч границей для выбросов. В проивном случае мы потеряем более 5% данных теста.\n",
    "\n",
    "Создадим переменную orders_revenue_percentile для хранения 99 персентиля и использования в дальнейшей аналитике."
   ]
  },
  {
   "cell_type": "code",
   "execution_count": 28,
   "metadata": {},
   "outputs": [
    {
     "data": {
      "text/plain": [
       "58233"
      ]
     },
     "execution_count": 28,
     "metadata": {},
     "output_type": "execute_result"
    }
   ],
   "source": [
    "orders_revenue_percentile = int(np.percentile(orders['revenue'], [99]))\n",
    "orders_revenue_percentile"
   ]
  },
  {
   "cell_type": "markdown",
   "metadata": {},
   "source": [
    "### Статистическая значимость различий в конверсии между группами по «сырым» данным"
   ]
  },
  {
   "cell_type": "markdown",
   "metadata": {},
   "source": [
    "Сформулируем гипотезы. Нулевая: различий в конверсии между группами нет. Альтернативная: различия в конверсии между группами есть."
   ]
  },
  {
   "cell_type": "code",
   "execution_count": 29,
   "metadata": {},
   "outputs": [
    {
     "data": {
      "text/html": [
       "<div>\n",
       "<style scoped>\n",
       "    .dataframe tbody tr th:only-of-type {\n",
       "        vertical-align: middle;\n",
       "    }\n",
       "\n",
       "    .dataframe tbody tr th {\n",
       "        vertical-align: top;\n",
       "    }\n",
       "\n",
       "    .dataframe thead th {\n",
       "        text-align: right;\n",
       "    }\n",
       "</style>\n",
       "<table border=\"1\" class=\"dataframe\">\n",
       "  <thead>\n",
       "    <tr style=\"text-align: right;\">\n",
       "      <th></th>\n",
       "      <th>date</th>\n",
       "      <th>ordersPerDateA</th>\n",
       "      <th>revenuePerDateA</th>\n",
       "      <th>ordersPerDateB</th>\n",
       "      <th>revenuePerDateB</th>\n",
       "      <th>ordersCummulativeA</th>\n",
       "      <th>revenueCummulativeA</th>\n",
       "      <th>ordersCummulativeB</th>\n",
       "      <th>revenueCummulativeB</th>\n",
       "      <th>visitorsPerDateA</th>\n",
       "      <th>visitorsPerDateB</th>\n",
       "      <th>visitorsCummulativeA</th>\n",
       "      <th>visitorsCummulativeB</th>\n",
       "    </tr>\n",
       "  </thead>\n",
       "  <tbody>\n",
       "    <tr>\n",
       "      <th>0</th>\n",
       "      <td>2019-08-01</td>\n",
       "      <td>24</td>\n",
       "      <td>148579</td>\n",
       "      <td>21</td>\n",
       "      <td>101217</td>\n",
       "      <td>24</td>\n",
       "      <td>148579</td>\n",
       "      <td>21</td>\n",
       "      <td>101217</td>\n",
       "      <td>719</td>\n",
       "      <td>713</td>\n",
       "      <td>719</td>\n",
       "      <td>713</td>\n",
       "    </tr>\n",
       "    <tr>\n",
       "      <th>1</th>\n",
       "      <td>2019-08-02</td>\n",
       "      <td>20</td>\n",
       "      <td>93822</td>\n",
       "      <td>24</td>\n",
       "      <td>165531</td>\n",
       "      <td>44</td>\n",
       "      <td>242401</td>\n",
       "      <td>45</td>\n",
       "      <td>266748</td>\n",
       "      <td>619</td>\n",
       "      <td>581</td>\n",
       "      <td>1338</td>\n",
       "      <td>1294</td>\n",
       "    </tr>\n",
       "    <tr>\n",
       "      <th>2</th>\n",
       "      <td>2019-08-03</td>\n",
       "      <td>24</td>\n",
       "      <td>112473</td>\n",
       "      <td>16</td>\n",
       "      <td>114248</td>\n",
       "      <td>68</td>\n",
       "      <td>354874</td>\n",
       "      <td>61</td>\n",
       "      <td>380996</td>\n",
       "      <td>507</td>\n",
       "      <td>509</td>\n",
       "      <td>1845</td>\n",
       "      <td>1803</td>\n",
       "    </tr>\n",
       "    <tr>\n",
       "      <th>3</th>\n",
       "      <td>2019-08-04</td>\n",
       "      <td>16</td>\n",
       "      <td>70825</td>\n",
       "      <td>17</td>\n",
       "      <td>108571</td>\n",
       "      <td>84</td>\n",
       "      <td>425699</td>\n",
       "      <td>78</td>\n",
       "      <td>489567</td>\n",
       "      <td>717</td>\n",
       "      <td>770</td>\n",
       "      <td>2562</td>\n",
       "      <td>2573</td>\n",
       "    </tr>\n",
       "    <tr>\n",
       "      <th>4</th>\n",
       "      <td>2019-08-05</td>\n",
       "      <td>25</td>\n",
       "      <td>124218</td>\n",
       "      <td>23</td>\n",
       "      <td>92428</td>\n",
       "      <td>109</td>\n",
       "      <td>549917</td>\n",
       "      <td>101</td>\n",
       "      <td>581995</td>\n",
       "      <td>756</td>\n",
       "      <td>707</td>\n",
       "      <td>3318</td>\n",
       "      <td>3280</td>\n",
       "    </tr>\n",
       "  </tbody>\n",
       "</table>\n",
       "</div>"
      ],
      "text/plain": [
       "        date  ordersPerDateA  revenuePerDateA  ordersPerDateB  \\\n",
       "0 2019-08-01              24           148579              21   \n",
       "1 2019-08-02              20            93822              24   \n",
       "2 2019-08-03              24           112473              16   \n",
       "3 2019-08-04              16            70825              17   \n",
       "4 2019-08-05              25           124218              23   \n",
       "\n",
       "   revenuePerDateB  ordersCummulativeA  revenueCummulativeA  \\\n",
       "0           101217                  24               148579   \n",
       "1           165531                  44               242401   \n",
       "2           114248                  68               354874   \n",
       "3           108571                  84               425699   \n",
       "4            92428                 109               549917   \n",
       "\n",
       "   ordersCummulativeB  revenueCummulativeB  visitorsPerDateA  \\\n",
       "0                  21               101217               719   \n",
       "1                  45               266748               619   \n",
       "2                  61               380996               507   \n",
       "3                  78               489567               717   \n",
       "4                 101               581995               756   \n",
       "\n",
       "   visitorsPerDateB  visitorsCummulativeA  visitorsCummulativeB  \n",
       "0               713                   719                   713  \n",
       "1               581                  1338                  1294  \n",
       "2               509                  1845                  1803  \n",
       "3               770                  2562                  2573  \n",
       "4               707                  3318                  3280  "
      ]
     },
     "metadata": {},
     "output_type": "display_data"
    },
    {
     "data": {
      "text/plain": [
       "'0.01679'"
      ]
     },
     "metadata": {},
     "output_type": "display_data"
    },
    {
     "data": {
      "text/plain": [
       "'0.138'"
      ]
     },
     "metadata": {},
     "output_type": "display_data"
    }
   ],
   "source": [
    "visitorsADaily = visitors[visitors['group'] == 'A'][['date', 'visitors']]\n",
    "visitorsADaily.columns = ['date', 'visitorsPerDateA']\n",
    "\n",
    "visitorsACummulative = visitorsADaily.apply(\n",
    "    lambda x: visitorsADaily[visitorsADaily['date'] <= x['date']].agg(\n",
    "        {'date': 'max', 'visitorsPerDateA': 'sum'}\n",
    "    ),\n",
    "    axis=1,\n",
    ")\n",
    "visitorsACummulative.columns = ['date', 'visitorsCummulativeA']\n",
    "\n",
    "visitorsBDaily = visitors[visitors['group'] == 'B'][['date', 'visitors']]\n",
    "visitorsBDaily.columns = ['date', 'visitorsPerDateB']\n",
    "\n",
    "visitorsBCummulative = visitorsBDaily.apply(\n",
    "    lambda x: visitorsBDaily[visitorsBDaily['date'] <= x['date']].agg(\n",
    "        {'date': 'max', 'visitorsPerDateB': 'sum'}\n",
    "    ),\n",
    "    axis=1,\n",
    ")\n",
    "visitorsBCummulative.columns = ['date', 'visitorsCummulativeB']\n",
    "\n",
    "ordersADaily = (\n",
    "    orders[orders['group'] == 'A'][['date', 'transactionId', 'visitorId', 'revenue']]\n",
    "    .groupby('date', as_index=False)\n",
    "    .agg({'transactionId': pd.Series.nunique, 'revenue': 'sum'})\n",
    ")\n",
    "ordersADaily.columns = ['date', 'ordersPerDateA', 'revenuePerDateA']\n",
    "\n",
    "ordersACummulative = ordersADaily.apply(\n",
    "    lambda x: ordersADaily[ordersADaily['date'] <= x['date']].agg(\n",
    "        {'date': 'max', 'ordersPerDateA': 'sum', 'revenuePerDateA': 'sum'}\n",
    "    ),\n",
    "    axis=1,\n",
    ").sort_values(by=['date'])\n",
    "ordersACummulative.columns = [\n",
    "    'date',\n",
    "    'ordersCummulativeA',\n",
    "    'revenueCummulativeA',\n",
    "]\n",
    "\n",
    "ordersBDaily = (\n",
    "    orders[orders['group'] == 'B'][['date', 'transactionId', 'visitorId', 'revenue']]\n",
    "    .groupby('date', as_index=False)\n",
    "    .agg({'transactionId': pd.Series.nunique, 'revenue': 'sum'})\n",
    ")\n",
    "ordersBDaily.columns = ['date', 'ordersPerDateB', 'revenuePerDateB']\n",
    "\n",
    "ordersBCummulative = ordersBDaily.apply(\n",
    "    lambda x: ordersBDaily[ordersBDaily['date'] <= x['date']].agg(\n",
    "        {'date': 'max', 'ordersPerDateB': 'sum', 'revenuePerDateB': 'sum'}\n",
    "    ),\n",
    "    axis=1,\n",
    ").sort_values(by=['date'])\n",
    "ordersBCummulative.columns = [\n",
    "    'date',\n",
    "    'ordersCummulativeB',\n",
    "    'revenueCummulativeB',\n",
    "]\n",
    "\n",
    "data = (\n",
    "    ordersADaily.merge(\n",
    "        ordersBDaily, left_on='date', right_on='date', how='left'\n",
    "    )\n",
    "    .merge(ordersACummulative, left_on='date', right_on='date', how='left')\n",
    "    .merge(ordersBCummulative, left_on='date', right_on='date', how='left')\n",
    "    .merge(visitorsADaily, left_on='date', right_on='date', how='left')\n",
    "    .merge(visitorsBDaily, left_on='date', right_on='date', how='left')\n",
    "    .merge(visitorsACummulative, left_on='date', right_on='date', how='left')\n",
    "    .merge(visitorsBCummulative, left_on='date', right_on='date', how='left')\n",
    ")\n",
    "\n",
    "display(data.head(5))\n",
    "\n",
    "\n",
    "ordersByUsersA = (\n",
    "    orders[orders['group'] == 'A']\n",
    "    .groupby('visitorId', as_index=False)\n",
    "    .agg({'transactionId': pd.Series.nunique})\n",
    ")\n",
    "ordersByUsersA.columns = ['userId', 'orders']\n",
    "\n",
    "ordersByUsersB = (\n",
    "    orders[orders['group'] == 'B']\n",
    "    .groupby('visitorId', as_index=False)\n",
    "    .agg({'transactionId': pd.Series.nunique})\n",
    ")\n",
    "ordersByUsersB.columns = ['userId', 'orders']\n",
    "\n",
    "sampleA = pd.concat([ordersByUsersA['orders'],pd.Series(0, index=np.arange(data['visitorsPerDateA'].sum() - len(ordersByUsersA['orders'])), name='orders')],axis=0)\n",
    "\n",
    "sampleB = pd.concat([ordersByUsersB['orders'],pd.Series(0, index=np.arange(data['visitorsPerDateB'].sum() - len(ordersByUsersB['orders'])), name='orders')],axis=0)\n",
    "\n",
    "display(\"{0:.5f}\".format(stats.mannwhitneyu(sampleA, sampleB)[1]))\n",
    "\n",
    "display(\"{0:.3f}\".format((data['ordersPerDateB'].sum()/data['visitorsPerDateB'].sum())/(data['ordersPerDateA'].sum()/data['visitorsPerDateA'].sum())-1))"
   ]
  },
  {
   "cell_type": "markdown",
   "metadata": {},
   "source": [
    "P-value = 0,01679, т.е. меньше, чем 0,05. Следовательно отвергаем нулевую гипотезу. Анализ \"сырых\" данных сообщает, что в конверсии между группами есть статистиески значимые различия. Относительный прирост конверсии групы В к конверси группы А равен 13,8%.\n",
    "\n",
    "Сравним средние чеки по \"сырым\" даным."
   ]
  },
  {
   "cell_type": "markdown",
   "metadata": {},
   "source": [
    "### Статистическая значимость различий в среднем чеке заказа между группами по «сырым» данным"
   ]
  },
  {
   "cell_type": "code",
   "execution_count": 30,
   "metadata": {},
   "outputs": [
    {
     "data": {
      "text/plain": [
       "'0.729'"
      ]
     },
     "metadata": {},
     "output_type": "display_data"
    },
    {
     "data": {
      "text/plain": [
       "'0.259'"
      ]
     },
     "metadata": {},
     "output_type": "display_data"
    }
   ],
   "source": [
    "display('{0:.3f}'.format(stats.mannwhitneyu(orders[orders['group']=='A']['revenue'], orders[orders['group']=='B']['revenue'])[1]))\n",
    "display('{0:.3f}'.format(orders[orders['group']=='B']['revenue'].mean()/orders[orders['group']=='A']['revenue'].mean()-1))"
   ]
  },
  {
   "cell_type": "markdown",
   "metadata": {},
   "source": [
    "P-value = 0,729, т.е. больше, чем 0,05. Следовательно не отвергаем нулевую гипотезу. Статичтически значимых различий в среднем чеке \"сырых\" данных нет. Относительное различие среднего чека между группами 26%.\n",
    "\n",
    "Приступим к анализу аномалий."
   ]
  },
  {
   "cell_type": "markdown",
   "metadata": {},
   "source": [
    "### Анализ аномалий"
   ]
  },
  {
   "cell_type": "markdown",
   "metadata": {},
   "source": [
    "95-й и 99-й перцентили средних чеков равны 28 000 и 58 233 рублям. А 95-й и 99-й перцентили числа заказов на одного пользователя равны 2 и 4 заказам на пользователя.\n",
    "\n",
    "Примем за аномальных пользователей тех, кто совершил более 2 заказов, или совершил заказ на сумму свыше 58 000 рублей. Так мы уберём 5% пользователей с наибольшим числом заказов и 1% заказов с наибольшей стоимостью.\n",
    "\n",
    "Удалим именно пользователей. Сначала определим аномальные заказы. Затем пользователей, совершивших их, и добавим их в список аномальных."
   ]
  },
  {
   "cell_type": "code",
   "execution_count": 31,
   "metadata": {},
   "outputs": [
    {
     "data": {
      "text/plain": [
       "1099    148427295\n",
       "18      199603092\n",
       "23      237748145\n",
       "37      249864742\n",
       "68      457167155\n",
       "dtype: int64"
      ]
     },
     "execution_count": 31,
     "metadata": {},
     "output_type": "execute_result"
    }
   ],
   "source": [
    "usersWithManyOrders = pd.concat(\n",
    "    [\n",
    "        ordersByUsersA[ordersByUsersA['orders'] > orders_nb_percentile]['userId'],\n",
    "        ordersByUsersB[ordersByUsersB['orders'] > orders_nb_percentile]['userId'],\n",
    "    ],\n",
    "    axis=0,\n",
    ")\n",
    "usersWithExpensiveOrders = orders[orders['revenue'] > orders_revenue_percentile]['visitorId']\n",
    "abnormalUsers = (\n",
    "    pd.concat([usersWithManyOrders, usersWithExpensiveOrders], axis=0)\n",
    "    .drop_duplicates()\n",
    "    .sort_values()\n",
    ")\n",
    "abnormalUsers.head(5)"
   ]
  },
  {
   "cell_type": "markdown",
   "metadata": {},
   "source": [
    "### Статистическая значимость различий в конверсии между группами по «очищенным» данным"
   ]
  },
  {
   "cell_type": "code",
   "execution_count": 32,
   "metadata": {},
   "outputs": [
    {
     "data": {
      "text/plain": [
       "'0.01007'"
      ]
     },
     "metadata": {},
     "output_type": "display_data"
    },
    {
     "data": {
      "text/plain": [
       "'0.174'"
      ]
     },
     "metadata": {},
     "output_type": "display_data"
    }
   ],
   "source": [
    "sampleAFiltered = pd.concat(\n",
    "    [\n",
    "        ordersByUsersA[\n",
    "            np.logical_not(ordersByUsersA['userId'].isin(abnormalUsers))\n",
    "        ]['orders'],\n",
    "        pd.Series(\n",
    "            0,\n",
    "            index=np.arange(\n",
    "                data['visitorsPerDateA'].sum() - len(ordersByUsersA['orders'])\n",
    "            ),\n",
    "            name='orders',\n",
    "        ),\n",
    "    ],\n",
    "    axis=0,\n",
    ")\n",
    "\n",
    "sampleBFiltered = pd.concat(\n",
    "    [\n",
    "        ordersByUsersB[\n",
    "            np.logical_not(ordersByUsersB['userId'].isin(abnormalUsers))\n",
    "        ]['orders'],\n",
    "        pd.Series(\n",
    "            0,\n",
    "            index=np.arange(\n",
    "                data['visitorsPerDateB'].sum() - len(ordersByUsersB['orders'])\n",
    "            ),\n",
    "            name='orders',\n",
    "        ),\n",
    "    ],\n",
    "    axis=0,\n",
    ")\n",
    "\n",
    "display('{0:.5f}'.format(stats.mannwhitneyu(sampleAFiltered, sampleBFiltered)[1]))\n",
    "display('{0:.3f}'.format(sampleBFiltered.mean()/sampleAFiltered.mean()-1))"
   ]
  },
  {
   "cell_type": "markdown",
   "metadata": {},
   "source": [
    "P-value = 0,01007, т.е. меньше, чем 0,05. Следовательно отвергаем нулевую гипотезу. Анализ \"очищенных\" данных сообщает, что в конверсии между группами есть статистиески значимые различия. Точно так же как и в \"сырых\" данных. Относительный прирост конверсии групы В к конверси группы А равен 17,4%.\n",
    "\n",
    "Сравним средние чеки по \"очищенным\" даным."
   ]
  },
  {
   "cell_type": "markdown",
   "metadata": {},
   "source": [
    "### Статистическая значимость различий в среднем чеке заказа между группами по «очищенным» данным"
   ]
  },
  {
   "cell_type": "code",
   "execution_count": 33,
   "metadata": {
    "scrolled": true
   },
   "outputs": [
    {
     "data": {
      "text/plain": [
       "'0.798'"
      ]
     },
     "metadata": {},
     "output_type": "display_data"
    },
    {
     "data": {
      "text/plain": [
       "'-0.020'"
      ]
     },
     "metadata": {},
     "output_type": "display_data"
    }
   ],
   "source": [
    "display(\n",
    "    '{0:.3f}'.format(\n",
    "        stats.mannwhitneyu(\n",
    "            orders[\n",
    "                np.logical_and(\n",
    "                    orders['group'] == 'A',\n",
    "                    np.logical_not(orders['visitorId'].isin(abnormalUsers)),\n",
    "                )\n",
    "            ]['revenue'],\n",
    "            orders[\n",
    "                np.logical_and(\n",
    "                    orders['group'] == 'B',\n",
    "                    np.logical_not(orders['visitorId'].isin(abnormalUsers)),\n",
    "                )\n",
    "            ]['revenue'],\n",
    "        )[1]\n",
    "    )\n",
    ")\n",
    "\n",
    "display(\n",
    "    \"{0:.3f}\".format(\n",
    "        orders[\n",
    "            np.logical_and(\n",
    "                orders['group'] == 'B',\n",
    "                np.logical_not(orders['visitorId'].isin(abnormalUsers)),\n",
    "            )\n",
    "        ]['revenue'].mean()\n",
    "        / orders[\n",
    "            np.logical_and(\n",
    "                orders['group'] == 'A',\n",
    "                np.logical_not(orders['visitorId'].isin(abnormalUsers)),\n",
    "            )\n",
    "        ]['revenue'].mean()\n",
    "        - 1\n",
    "    )\n",
    ")"
   ]
  },
  {
   "cell_type": "markdown",
   "metadata": {},
   "source": [
    "P-value = 0,798, т.е. значительно больше, чем 0,05. Следовательно не отвергаем нулевую гипотезу. Статичтически значимых различий в среднем чеке \"очищенных\" данных нет. Относительное различие среднего чека между группами 2%."
   ]
  },
  {
   "cell_type": "markdown",
   "metadata": {},
   "source": [
    "## Выводы из A/B-теста"
   ]
  },
  {
   "cell_type": "markdown",
   "metadata": {},
   "source": [
    "* Есть статистически значимое различие по конверсии между группами как по сырым данным, так и после фильтрации аномалий;\n",
    "* По сырым данным и очищенным данным нет статистически значимого различия по среднему чеку между группами.\n",
    "* График различия конверсии между группами сообщает, что результаты группы B лучше группы A.\n",
    "* График различия среднего чека колеблется: он-то и позволил нам найти аномалии. Сделать из этого графика определённые выводы нельзя.\n",
    "\n",
    "**Итог: Остановить тест и признать его успешным.**\n",
    "\n",
    "**Результаты группы В лучше результатов группы А**"
   ]
  },
  {
   "cell_type": "code",
   "execution_count": null,
   "metadata": {},
   "outputs": [],
   "source": []
  }
 ],
 "metadata": {
  "ExecuteTimeLog": [
   {
    "duration": 1491,
    "start_time": "2022-04-12T11:19:03.627Z"
   },
   {
    "duration": 12,
    "start_time": "2022-04-12T11:22:24.105Z"
   },
   {
    "duration": 4,
    "start_time": "2022-04-12T11:24:18.330Z"
   },
   {
    "duration": 37,
    "start_time": "2022-04-12T11:24:33.893Z"
   },
   {
    "duration": 1495,
    "start_time": "2022-04-12T11:36:28.529Z"
   },
   {
    "duration": 20,
    "start_time": "2022-04-12T11:36:30.028Z"
   },
   {
    "duration": 14,
    "start_time": "2022-04-12T11:36:30.051Z"
   },
   {
    "duration": 66,
    "start_time": "2022-04-12T11:36:30.067Z"
   },
   {
    "duration": 154,
    "start_time": "2022-04-12T11:43:26.005Z"
   },
   {
    "duration": 2354,
    "start_time": "2022-04-12T11:49:11.761Z"
   },
   {
    "duration": 33,
    "start_time": "2022-04-12T11:52:41.104Z"
   },
   {
    "duration": 14,
    "start_time": "2022-04-12T11:52:54.977Z"
   },
   {
    "duration": 9,
    "start_time": "2022-04-12T11:53:13.192Z"
   },
   {
    "duration": 1249,
    "start_time": "2022-04-12T11:55:53.606Z"
   },
   {
    "duration": 12,
    "start_time": "2022-04-12T11:55:54.858Z"
   },
   {
    "duration": 6,
    "start_time": "2022-04-12T11:55:54.871Z"
   },
   {
    "duration": 59,
    "start_time": "2022-04-12T11:55:54.879Z"
   },
   {
    "duration": 4,
    "start_time": "2022-04-12T11:55:57.518Z"
   },
   {
    "duration": 30,
    "start_time": "2022-04-12T11:56:08.181Z"
   },
   {
    "duration": 4,
    "start_time": "2022-04-12T11:56:32.565Z"
   },
   {
    "duration": 15,
    "start_time": "2022-04-12T11:56:37.788Z"
   },
   {
    "duration": 142,
    "start_time": "2022-04-12T11:59:48.927Z"
   },
   {
    "duration": 22,
    "start_time": "2022-04-12T12:01:11.514Z"
   },
   {
    "duration": 7,
    "start_time": "2022-04-12T12:05:48.229Z"
   },
   {
    "duration": 5,
    "start_time": "2022-04-12T12:08:37.436Z"
   },
   {
    "duration": 5,
    "start_time": "2022-04-12T12:08:47.413Z"
   },
   {
    "duration": 4,
    "start_time": "2022-04-12T12:19:06.551Z"
   },
   {
    "duration": 1289,
    "start_time": "2022-04-12T12:19:26.315Z"
   },
   {
    "duration": 22,
    "start_time": "2022-04-12T12:19:27.607Z"
   },
   {
    "duration": 5,
    "start_time": "2022-04-12T12:19:27.632Z"
   },
   {
    "duration": 48,
    "start_time": "2022-04-12T12:19:27.640Z"
   },
   {
    "duration": 3,
    "start_time": "2022-04-12T12:19:27.690Z"
   },
   {
    "duration": 40,
    "start_time": "2022-04-12T12:19:27.696Z"
   },
   {
    "duration": 17,
    "start_time": "2022-04-12T12:19:27.738Z"
   },
   {
    "duration": 6,
    "start_time": "2022-04-12T12:19:27.758Z"
   },
   {
    "duration": 684,
    "start_time": "2022-04-12T12:27:24.739Z"
   },
   {
    "duration": 622,
    "start_time": "2022-04-12T12:28:33.946Z"
   },
   {
    "duration": 48,
    "start_time": "2022-04-12T12:28:58.305Z"
   },
   {
    "duration": 37,
    "start_time": "2022-04-12T12:31:09.952Z"
   },
   {
    "duration": 1522,
    "start_time": "2022-04-12T12:33:29.368Z"
   },
   {
    "duration": 12,
    "start_time": "2022-04-12T12:33:30.893Z"
   },
   {
    "duration": 26,
    "start_time": "2022-04-12T12:33:30.908Z"
   },
   {
    "duration": 34,
    "start_time": "2022-04-12T12:33:33.536Z"
   },
   {
    "duration": 3,
    "start_time": "2022-04-12T12:33:39.871Z"
   },
   {
    "duration": 17,
    "start_time": "2022-04-12T12:33:40.553Z"
   },
   {
    "duration": 16,
    "start_time": "2022-04-12T12:33:41.736Z"
   },
   {
    "duration": 51,
    "start_time": "2022-04-12T12:33:43.134Z"
   },
   {
    "duration": 27,
    "start_time": "2022-04-12T12:33:44.055Z"
   },
   {
    "duration": 24,
    "start_time": "2022-04-12T12:36:36.093Z"
   },
   {
    "duration": 19,
    "start_time": "2022-04-12T12:46:59.553Z"
   },
   {
    "duration": 11,
    "start_time": "2022-04-12T12:47:11.890Z"
   },
   {
    "duration": 4,
    "start_time": "2022-04-12T12:51:58.534Z"
   },
   {
    "duration": 330,
    "start_time": "2022-04-12T12:56:56.116Z"
   },
   {
    "duration": 5,
    "start_time": "2022-04-12T12:57:15.623Z"
   },
   {
    "duration": 5,
    "start_time": "2022-04-12T12:57:49.092Z"
   },
   {
    "duration": 587,
    "start_time": "2022-04-12T13:03:26.040Z"
   },
   {
    "duration": 401,
    "start_time": "2022-04-12T13:04:29.870Z"
   },
   {
    "duration": 219,
    "start_time": "2022-04-12T13:10:04.419Z"
   },
   {
    "duration": 279,
    "start_time": "2022-04-12T13:12:11.643Z"
   },
   {
    "duration": 383,
    "start_time": "2022-04-12T13:13:43.586Z"
   },
   {
    "duration": 316,
    "start_time": "2022-04-12T13:13:56.883Z"
   },
   {
    "duration": 565,
    "start_time": "2022-04-12T13:15:54.849Z"
   },
   {
    "duration": 169,
    "start_time": "2022-04-12T13:16:27.473Z"
   },
   {
    "duration": 191,
    "start_time": "2022-04-12T13:16:36.521Z"
   },
   {
    "duration": 270,
    "start_time": "2022-04-12T13:18:57.415Z"
   },
   {
    "duration": 311,
    "start_time": "2022-04-12T13:20:10.127Z"
   },
   {
    "duration": 17,
    "start_time": "2022-04-12T16:37:13.411Z"
   },
   {
    "duration": 11,
    "start_time": "2022-04-12T16:38:10.579Z"
   },
   {
    "duration": 113,
    "start_time": "2022-04-12T16:39:11.786Z"
   },
   {
    "duration": 113,
    "start_time": "2022-04-12T16:40:09.481Z"
   },
   {
    "duration": 132,
    "start_time": "2022-04-12T16:41:49.688Z"
   },
   {
    "duration": 4,
    "start_time": "2022-04-12T16:42:14.959Z"
   },
   {
    "duration": 6,
    "start_time": "2022-04-12T16:43:07.472Z"
   },
   {
    "duration": 134,
    "start_time": "2022-04-12T16:51:07.531Z"
   },
   {
    "duration": 6,
    "start_time": "2022-04-12T16:53:40.348Z"
   },
   {
    "duration": 117,
    "start_time": "2022-04-12T17:04:31.189Z"
   },
   {
    "duration": 386,
    "start_time": "2022-04-12T17:06:15.812Z"
   },
   {
    "duration": 11,
    "start_time": "2022-04-12T17:12:37.216Z"
   },
   {
    "duration": 16,
    "start_time": "2022-04-12T17:13:15.463Z"
   },
   {
    "duration": 3,
    "start_time": "2022-04-12T17:17:21.085Z"
   },
   {
    "duration": 3003,
    "start_time": "2022-04-12T17:22:59.658Z"
   },
   {
    "duration": 2384,
    "start_time": "2022-04-12T17:23:40.794Z"
   },
   {
    "duration": 2369,
    "start_time": "2022-04-12T17:24:34.250Z"
   },
   {
    "duration": 7,
    "start_time": "2022-04-12T17:26:26.520Z"
   },
   {
    "duration": 11,
    "start_time": "2022-04-12T17:27:02.944Z"
   },
   {
    "duration": 3,
    "start_time": "2022-04-12T17:28:46.056Z"
   },
   {
    "duration": 34,
    "start_time": "2022-04-12T17:30:11.431Z"
   },
   {
    "duration": 2478,
    "start_time": "2022-04-12T17:33:45.598Z"
   },
   {
    "duration": 20,
    "start_time": "2022-04-12T17:34:44.157Z"
   },
   {
    "duration": 1146,
    "start_time": "2022-04-12T17:54:48.330Z"
   },
   {
    "duration": 11,
    "start_time": "2022-04-12T17:54:49.479Z"
   },
   {
    "duration": 3,
    "start_time": "2022-04-12T17:54:49.492Z"
   },
   {
    "duration": 45,
    "start_time": "2022-04-12T17:54:49.498Z"
   },
   {
    "duration": 3,
    "start_time": "2022-04-12T17:54:49.545Z"
   },
   {
    "duration": 27,
    "start_time": "2022-04-12T17:54:49.550Z"
   },
   {
    "duration": 11,
    "start_time": "2022-04-12T17:54:49.579Z"
   },
   {
    "duration": 65,
    "start_time": "2022-04-12T17:54:49.592Z"
   },
   {
    "duration": 26,
    "start_time": "2022-04-12T17:54:49.659Z"
   },
   {
    "duration": 33,
    "start_time": "2022-04-12T17:54:49.688Z"
   },
   {
    "duration": 611,
    "start_time": "2022-04-12T17:54:49.723Z"
   },
   {
    "duration": 285,
    "start_time": "2022-04-12T17:54:50.335Z"
   },
   {
    "duration": 198,
    "start_time": "2022-04-12T17:54:50.622Z"
   },
   {
    "duration": 302,
    "start_time": "2022-04-12T17:54:50.822Z"
   },
   {
    "duration": 188,
    "start_time": "2022-04-12T17:54:51.126Z"
   },
   {
    "duration": 331,
    "start_time": "2022-04-12T17:54:51.318Z"
   },
   {
    "duration": 13,
    "start_time": "2022-04-12T17:54:51.651Z"
   },
   {
    "duration": 135,
    "start_time": "2022-04-12T17:54:51.666Z"
   },
   {
    "duration": 138,
    "start_time": "2022-04-12T17:54:51.803Z"
   },
   {
    "duration": 6,
    "start_time": "2022-04-12T17:54:51.943Z"
   },
   {
    "duration": 147,
    "start_time": "2022-04-12T17:54:51.951Z"
   },
   {
    "duration": 5,
    "start_time": "2022-04-12T17:54:52.100Z"
   },
   {
    "duration": 474,
    "start_time": "2022-04-12T17:54:52.119Z"
   },
   {
    "duration": 30,
    "start_time": "2022-04-12T17:54:52.594Z"
   },
   {
    "duration": 11,
    "start_time": "2022-04-12T17:54:52.626Z"
   },
   {
    "duration": 44,
    "start_time": "2022-04-12T17:54:52.639Z"
   },
   {
    "duration": 42,
    "start_time": "2022-04-12T17:54:52.684Z"
   },
   {
    "duration": 1318,
    "start_time": "2022-04-12T18:15:20.114Z"
   },
   {
    "duration": 18,
    "start_time": "2022-04-12T18:15:21.435Z"
   },
   {
    "duration": 12,
    "start_time": "2022-04-12T18:15:21.456Z"
   },
   {
    "duration": 37,
    "start_time": "2022-04-12T18:15:21.471Z"
   },
   {
    "duration": 8,
    "start_time": "2022-04-12T18:15:21.518Z"
   },
   {
    "duration": 29,
    "start_time": "2022-04-12T18:15:21.528Z"
   },
   {
    "duration": 14,
    "start_time": "2022-04-12T18:15:21.559Z"
   },
   {
    "duration": 60,
    "start_time": "2022-04-12T18:15:21.575Z"
   },
   {
    "duration": 58,
    "start_time": "2022-04-12T18:15:21.637Z"
   },
   {
    "duration": 36,
    "start_time": "2022-04-12T18:15:21.698Z"
   },
   {
    "duration": 16,
    "start_time": "2022-04-12T18:15:27.412Z"
   },
   {
    "duration": 17,
    "start_time": "2022-04-12T18:15:41.364Z"
   },
   {
    "duration": 11,
    "start_time": "2022-04-12T18:17:24.548Z"
   },
   {
    "duration": 1334,
    "start_time": "2022-04-12T18:19:51.165Z"
   },
   {
    "duration": 16,
    "start_time": "2022-04-12T18:19:52.502Z"
   },
   {
    "duration": 29,
    "start_time": "2022-04-12T18:19:52.520Z"
   },
   {
    "duration": 61,
    "start_time": "2022-04-12T18:19:52.552Z"
   },
   {
    "duration": 4,
    "start_time": "2022-04-12T18:19:52.615Z"
   },
   {
    "duration": 54,
    "start_time": "2022-04-12T18:19:52.621Z"
   },
   {
    "duration": 15,
    "start_time": "2022-04-12T18:19:52.678Z"
   },
   {
    "duration": 51,
    "start_time": "2022-04-12T18:19:52.695Z"
   },
   {
    "duration": 26,
    "start_time": "2022-04-12T18:19:52.749Z"
   },
   {
    "duration": 49,
    "start_time": "2022-04-12T18:19:52.778Z"
   },
   {
    "duration": 11,
    "start_time": "2022-04-12T18:19:55.383Z"
   },
   {
    "duration": 10,
    "start_time": "2022-04-12T18:20:25.287Z"
   },
   {
    "duration": 13,
    "start_time": "2022-04-12T18:20:56.671Z"
   },
   {
    "duration": 11,
    "start_time": "2022-04-12T18:30:41.195Z"
   },
   {
    "duration": 13,
    "start_time": "2022-04-12T18:32:06.514Z"
   },
   {
    "duration": 15,
    "start_time": "2022-04-12T18:33:23.898Z"
   },
   {
    "duration": 13,
    "start_time": "2022-04-12T18:33:36.680Z"
   },
   {
    "duration": 12,
    "start_time": "2022-04-12T18:36:52.527Z"
   },
   {
    "duration": 171,
    "start_time": "2022-04-12T18:38:08.327Z"
   },
   {
    "duration": 9,
    "start_time": "2022-04-12T18:38:52.237Z"
   },
   {
    "duration": 6,
    "start_time": "2022-04-12T18:40:05.079Z"
   },
   {
    "duration": 7,
    "start_time": "2022-04-12T18:41:04.972Z"
   },
   {
    "duration": 7,
    "start_time": "2022-04-12T18:41:15.988Z"
   },
   {
    "duration": 126,
    "start_time": "2022-04-12T18:43:48.450Z"
   },
   {
    "duration": 593,
    "start_time": "2022-04-12T18:44:33.946Z"
   },
   {
    "duration": 271,
    "start_time": "2022-04-12T18:44:36.138Z"
   },
   {
    "duration": 201,
    "start_time": "2022-04-12T18:45:26.321Z"
   },
   {
    "duration": 314,
    "start_time": "2022-04-12T18:48:48.287Z"
   },
   {
    "duration": 142,
    "start_time": "2022-04-12T18:49:37.439Z"
   },
   {
    "duration": 287,
    "start_time": "2022-04-12T18:50:07.455Z"
   },
   {
    "duration": 168,
    "start_time": "2022-04-12T18:50:18.847Z"
   },
   {
    "duration": 183,
    "start_time": "2022-04-12T18:51:55.102Z"
   },
   {
    "duration": 184,
    "start_time": "2022-04-12T18:52:04.094Z"
   },
   {
    "duration": 349,
    "start_time": "2022-04-12T18:52:49.397Z"
   },
   {
    "duration": 13,
    "start_time": "2022-04-12T18:55:35.181Z"
   },
   {
    "duration": 216,
    "start_time": "2022-04-12T18:55:48.564Z"
   },
   {
    "duration": 124,
    "start_time": "2022-04-12T18:58:32.594Z"
   },
   {
    "duration": 121,
    "start_time": "2022-04-12T18:59:17.002Z"
   },
   {
    "duration": 1255,
    "start_time": "2022-04-12T18:59:35.814Z"
   },
   {
    "duration": 12,
    "start_time": "2022-04-12T18:59:37.071Z"
   },
   {
    "duration": 5,
    "start_time": "2022-04-12T18:59:37.085Z"
   },
   {
    "duration": 51,
    "start_time": "2022-04-12T18:59:37.093Z"
   },
   {
    "duration": 4,
    "start_time": "2022-04-12T18:59:37.146Z"
   },
   {
    "duration": 105,
    "start_time": "2022-04-12T18:59:37.152Z"
   },
   {
    "duration": 13,
    "start_time": "2022-04-12T18:59:37.259Z"
   },
   {
    "duration": 47,
    "start_time": "2022-04-12T18:59:37.274Z"
   },
   {
    "duration": 32,
    "start_time": "2022-04-12T18:59:37.323Z"
   },
   {
    "duration": 61,
    "start_time": "2022-04-12T18:59:37.359Z"
   },
   {
    "duration": 12,
    "start_time": "2022-04-12T18:59:37.423Z"
   },
   {
    "duration": 15,
    "start_time": "2022-04-12T18:59:37.437Z"
   },
   {
    "duration": 12,
    "start_time": "2022-04-12T18:59:37.454Z"
   },
   {
    "duration": 650,
    "start_time": "2022-04-12T18:59:37.468Z"
   },
   {
    "duration": 286,
    "start_time": "2022-04-12T18:59:38.119Z"
   },
   {
    "duration": 197,
    "start_time": "2022-04-12T18:59:38.407Z"
   },
   {
    "duration": 297,
    "start_time": "2022-04-12T18:59:38.606Z"
   },
   {
    "duration": 204,
    "start_time": "2022-04-12T18:59:38.905Z"
   },
   {
    "duration": 324,
    "start_time": "2022-04-12T18:59:39.110Z"
   },
   {
    "duration": 13,
    "start_time": "2022-04-12T18:59:39.436Z"
   },
   {
    "duration": 138,
    "start_time": "2022-04-12T18:59:39.451Z"
   },
   {
    "duration": 143,
    "start_time": "2022-04-12T18:59:39.591Z"
   },
   {
    "duration": 6,
    "start_time": "2022-04-12T18:59:39.737Z"
   },
   {
    "duration": 152,
    "start_time": "2022-04-12T18:59:39.745Z"
   },
   {
    "duration": 6,
    "start_time": "2022-04-12T18:59:39.899Z"
   },
   {
    "duration": 496,
    "start_time": "2022-04-12T18:59:39.919Z"
   },
   {
    "duration": 15,
    "start_time": "2022-04-12T18:59:40.418Z"
   },
   {
    "duration": 16,
    "start_time": "2022-04-12T18:59:40.438Z"
   },
   {
    "duration": 65,
    "start_time": "2022-04-12T18:59:40.456Z"
   },
   {
    "duration": 21,
    "start_time": "2022-04-12T18:59:40.524Z"
   },
   {
    "duration": 1780,
    "start_time": "2022-04-12T19:17:11.204Z"
   },
   {
    "duration": 15,
    "start_time": "2022-04-12T19:17:12.987Z"
   },
   {
    "duration": 14,
    "start_time": "2022-04-12T19:17:13.005Z"
   },
   {
    "duration": 59,
    "start_time": "2022-04-12T19:17:13.022Z"
   },
   {
    "duration": 4,
    "start_time": "2022-04-12T19:17:13.084Z"
   },
   {
    "duration": 19,
    "start_time": "2022-04-12T19:17:13.119Z"
   },
   {
    "duration": 19,
    "start_time": "2022-04-12T19:17:13.141Z"
   },
   {
    "duration": 59,
    "start_time": "2022-04-12T19:17:13.164Z"
   },
   {
    "duration": 30,
    "start_time": "2022-04-12T19:17:13.225Z"
   },
   {
    "duration": 27,
    "start_time": "2022-04-12T19:17:13.258Z"
   },
   {
    "duration": 10,
    "start_time": "2022-04-12T19:17:13.319Z"
   },
   {
    "duration": 14,
    "start_time": "2022-04-12T19:17:13.330Z"
   },
   {
    "duration": 12,
    "start_time": "2022-04-12T19:17:13.345Z"
   },
   {
    "duration": 687,
    "start_time": "2022-04-12T19:17:13.359Z"
   },
   {
    "duration": 301,
    "start_time": "2022-04-12T19:17:14.047Z"
   },
   {
    "duration": 206,
    "start_time": "2022-04-12T19:17:14.349Z"
   },
   {
    "duration": 432,
    "start_time": "2022-04-12T19:17:14.558Z"
   },
   {
    "duration": 211,
    "start_time": "2022-04-12T19:17:14.993Z"
   },
   {
    "duration": 337,
    "start_time": "2022-04-12T19:17:15.206Z"
   },
   {
    "duration": 14,
    "start_time": "2022-04-12T19:17:15.546Z"
   },
   {
    "duration": 142,
    "start_time": "2022-04-12T19:17:15.562Z"
   },
   {
    "duration": 157,
    "start_time": "2022-04-12T19:17:15.706Z"
   },
   {
    "duration": 5,
    "start_time": "2022-04-12T19:17:15.865Z"
   },
   {
    "duration": 164,
    "start_time": "2022-04-12T19:17:15.872Z"
   },
   {
    "duration": 6,
    "start_time": "2022-04-12T19:17:16.038Z"
   },
   {
    "duration": 962,
    "start_time": "2022-04-12T19:17:16.047Z"
   },
   {
    "duration": 19,
    "start_time": "2022-04-12T19:17:17.012Z"
   },
   {
    "duration": 17,
    "start_time": "2022-04-12T19:17:17.036Z"
   },
   {
    "duration": 80,
    "start_time": "2022-04-12T19:17:17.055Z"
   },
   {
    "duration": 18,
    "start_time": "2022-04-12T19:17:17.137Z"
   },
   {
    "duration": 1346,
    "start_time": "2022-04-13T11:55:00.366Z"
   },
   {
    "duration": 26,
    "start_time": "2022-04-13T11:55:01.714Z"
   },
   {
    "duration": 4,
    "start_time": "2022-04-13T11:55:01.742Z"
   },
   {
    "duration": 39,
    "start_time": "2022-04-13T11:55:01.748Z"
   },
   {
    "duration": 3,
    "start_time": "2022-04-13T11:55:01.788Z"
   },
   {
    "duration": 186,
    "start_time": "2022-04-13T11:55:05.104Z"
   },
   {
    "duration": 155,
    "start_time": "2022-04-13T11:55:44.631Z"
   },
   {
    "duration": 18,
    "start_time": "2022-04-13T11:56:06.335Z"
   },
   {
    "duration": 13,
    "start_time": "2022-04-13T11:57:01.671Z"
   },
   {
    "duration": 129,
    "start_time": "2022-04-13T11:58:42.470Z"
   },
   {
    "duration": 10,
    "start_time": "2022-04-13T11:59:43.589Z"
   },
   {
    "duration": 13,
    "start_time": "2022-04-13T12:01:34.149Z"
   },
   {
    "duration": 5,
    "start_time": "2022-04-13T12:06:35.738Z"
   },
   {
    "duration": 22,
    "start_time": "2022-04-13T12:06:35.746Z"
   },
   {
    "duration": 3,
    "start_time": "2022-04-13T12:06:35.770Z"
   },
   {
    "duration": 30,
    "start_time": "2022-04-13T12:06:35.775Z"
   },
   {
    "duration": 4,
    "start_time": "2022-04-13T12:06:35.807Z"
   },
   {
    "duration": 26,
    "start_time": "2022-04-13T12:06:35.818Z"
   },
   {
    "duration": 23,
    "start_time": "2022-04-13T12:06:35.846Z"
   },
   {
    "duration": 18,
    "start_time": "2022-04-13T12:06:35.871Z"
   },
   {
    "duration": 58,
    "start_time": "2022-04-13T12:06:35.891Z"
   },
   {
    "duration": 25,
    "start_time": "2022-04-13T12:06:35.951Z"
   },
   {
    "duration": 41,
    "start_time": "2022-04-13T12:06:35.978Z"
   },
   {
    "duration": 14,
    "start_time": "2022-04-13T12:06:36.021Z"
   },
   {
    "duration": 17,
    "start_time": "2022-04-13T12:06:36.036Z"
   },
   {
    "duration": 12,
    "start_time": "2022-04-13T12:06:36.056Z"
   },
   {
    "duration": 631,
    "start_time": "2022-04-13T12:06:36.070Z"
   },
   {
    "duration": 303,
    "start_time": "2022-04-13T12:06:36.702Z"
   },
   {
    "duration": 194,
    "start_time": "2022-04-13T12:06:37.006Z"
   },
   {
    "duration": 336,
    "start_time": "2022-04-13T12:06:37.202Z"
   },
   {
    "duration": 237,
    "start_time": "2022-04-13T12:06:37.540Z"
   },
   {
    "duration": 199,
    "start_time": "2022-04-13T12:07:39.826Z"
   },
   {
    "duration": 190,
    "start_time": "2022-04-13T12:09:09.969Z"
   },
   {
    "duration": 193,
    "start_time": "2022-04-13T12:10:12.296Z"
   },
   {
    "duration": 282,
    "start_time": "2022-04-13T12:12:49.638Z"
   },
   {
    "duration": 263,
    "start_time": "2022-04-13T12:14:16.294Z"
   },
   {
    "duration": 296,
    "start_time": "2022-04-13T12:14:22.758Z"
   },
   {
    "duration": 328,
    "start_time": "2022-04-13T12:15:23.846Z"
   },
   {
    "duration": 362,
    "start_time": "2022-04-13T12:15:44.693Z"
   },
   {
    "duration": 335,
    "start_time": "2022-04-13T12:16:45.869Z"
   },
   {
    "duration": 14,
    "start_time": "2022-04-13T12:17:41.939Z"
   },
   {
    "duration": 108,
    "start_time": "2022-04-13T12:17:45.475Z"
   },
   {
    "duration": 149,
    "start_time": "2022-04-13T12:19:16.219Z"
   },
   {
    "duration": 113,
    "start_time": "2022-04-13T12:19:22.946Z"
   },
   {
    "duration": 175,
    "start_time": "2022-04-13T12:19:32.419Z"
   },
   {
    "duration": 148,
    "start_time": "2022-04-13T12:20:18.707Z"
   },
   {
    "duration": 6,
    "start_time": "2022-04-13T12:20:23.665Z"
   },
   {
    "duration": 122,
    "start_time": "2022-04-13T12:20:29.130Z"
   },
   {
    "duration": 161,
    "start_time": "2022-04-13T12:21:05.598Z"
   },
   {
    "duration": 146,
    "start_time": "2022-04-13T12:21:34.874Z"
   },
   {
    "duration": 6,
    "start_time": "2022-04-13T12:23:45.282Z"
   },
   {
    "duration": 717,
    "start_time": "2022-04-13T12:28:12.574Z"
   },
   {
    "duration": 15,
    "start_time": "2022-04-13T12:28:23.813Z"
   },
   {
    "duration": 13,
    "start_time": "2022-04-13T12:29:43.333Z"
   },
   {
    "duration": 122,
    "start_time": "2022-04-13T12:30:53.164Z"
   },
   {
    "duration": 17,
    "start_time": "2022-04-13T12:31:04.837Z"
   },
   {
    "duration": 10,
    "start_time": "2022-04-13T12:31:37.572Z"
   },
   {
    "duration": 4,
    "start_time": "2022-04-13T12:32:52.219Z"
   },
   {
    "duration": 5,
    "start_time": "2022-04-13T12:33:02.915Z"
   },
   {
    "duration": 5,
    "start_time": "2022-04-13T12:33:16.643Z"
   },
   {
    "duration": 5,
    "start_time": "2022-04-13T12:35:30.722Z"
   },
   {
    "duration": 13,
    "start_time": "2022-04-13T12:36:39.826Z"
   },
   {
    "duration": 5,
    "start_time": "2022-04-13T12:40:04.888Z"
   },
   {
    "duration": 4,
    "start_time": "2022-04-13T12:40:25.383Z"
   },
   {
    "duration": 5,
    "start_time": "2022-04-13T12:40:36.407Z"
   },
   {
    "duration": 10,
    "start_time": "2022-04-13T12:40:42.199Z"
   },
   {
    "duration": 32,
    "start_time": "2022-04-13T12:41:44.079Z"
   },
   {
    "duration": 1184,
    "start_time": "2022-04-13T12:44:12.443Z"
   },
   {
    "duration": 18,
    "start_time": "2022-04-13T12:44:13.629Z"
   },
   {
    "duration": 17,
    "start_time": "2022-04-13T12:44:13.649Z"
   },
   {
    "duration": 47,
    "start_time": "2022-04-13T12:44:13.669Z"
   },
   {
    "duration": 4,
    "start_time": "2022-04-13T12:44:13.718Z"
   },
   {
    "duration": 32,
    "start_time": "2022-04-13T12:44:13.724Z"
   },
   {
    "duration": 16,
    "start_time": "2022-04-13T12:44:13.759Z"
   },
   {
    "duration": 30,
    "start_time": "2022-04-13T12:44:13.777Z"
   },
   {
    "duration": 59,
    "start_time": "2022-04-13T12:44:13.809Z"
   },
   {
    "duration": 36,
    "start_time": "2022-04-13T12:44:13.872Z"
   },
   {
    "duration": 27,
    "start_time": "2022-04-13T12:44:13.910Z"
   },
   {
    "duration": 9,
    "start_time": "2022-04-13T12:44:13.939Z"
   },
   {
    "duration": 23,
    "start_time": "2022-04-13T12:44:13.950Z"
   },
   {
    "duration": 23,
    "start_time": "2022-04-13T12:44:13.975Z"
   },
   {
    "duration": 603,
    "start_time": "2022-04-13T12:44:14.000Z"
   },
   {
    "duration": 303,
    "start_time": "2022-04-13T12:44:14.605Z"
   },
   {
    "duration": 213,
    "start_time": "2022-04-13T12:44:14.910Z"
   },
   {
    "duration": 304,
    "start_time": "2022-04-13T12:44:15.125Z"
   },
   {
    "duration": 209,
    "start_time": "2022-04-13T12:44:15.431Z"
   },
   {
    "duration": 312,
    "start_time": "2022-04-13T12:44:15.642Z"
   },
   {
    "duration": 13,
    "start_time": "2022-04-13T12:44:15.956Z"
   },
   {
    "duration": 167,
    "start_time": "2022-04-13T12:44:15.971Z"
   },
   {
    "duration": 160,
    "start_time": "2022-04-13T12:44:16.140Z"
   },
   {
    "duration": 6,
    "start_time": "2022-04-13T12:44:16.302Z"
   },
   {
    "duration": 18,
    "start_time": "2022-04-13T12:44:16.318Z"
   },
   {
    "duration": 156,
    "start_time": "2022-04-13T12:44:16.339Z"
   },
   {
    "duration": 7,
    "start_time": "2022-04-13T12:44:16.498Z"
   },
   {
    "duration": 17,
    "start_time": "2022-04-13T12:44:16.520Z"
   },
   {
    "duration": 467,
    "start_time": "2022-04-13T12:44:16.540Z"
   },
   {
    "duration": 20,
    "start_time": "2022-04-13T12:44:17.008Z"
   },
   {
    "duration": 22,
    "start_time": "2022-04-13T12:44:17.030Z"
   },
   {
    "duration": 37,
    "start_time": "2022-04-13T12:44:24.493Z"
   },
   {
    "duration": 18,
    "start_time": "2022-04-13T12:45:20.604Z"
   },
   {
    "duration": 6,
    "start_time": "2022-04-13T12:51:19.667Z"
   },
   {
    "duration": 4,
    "start_time": "2022-04-13T12:51:47.249Z"
   },
   {
    "duration": 9,
    "start_time": "2022-04-13T12:51:52.641Z"
   },
   {
    "duration": 6,
    "start_time": "2022-04-13T12:52:28.968Z"
   },
   {
    "duration": 147,
    "start_time": "2022-04-13T12:53:13.065Z"
   },
   {
    "duration": 151,
    "start_time": "2022-04-13T12:53:35.248Z"
   },
   {
    "duration": 8,
    "start_time": "2022-04-13T12:53:57.360Z"
   },
   {
    "duration": 7,
    "start_time": "2022-04-13T12:54:15.488Z"
   },
   {
    "duration": 1218,
    "start_time": "2022-04-13T12:58:42.908Z"
   },
   {
    "duration": 12,
    "start_time": "2022-04-13T12:58:44.128Z"
   },
   {
    "duration": 7,
    "start_time": "2022-04-13T12:58:44.142Z"
   },
   {
    "duration": 38,
    "start_time": "2022-04-13T12:58:44.151Z"
   },
   {
    "duration": 3,
    "start_time": "2022-04-13T12:58:44.191Z"
   },
   {
    "duration": 38,
    "start_time": "2022-04-13T12:58:44.196Z"
   },
   {
    "duration": 12,
    "start_time": "2022-04-13T12:58:44.236Z"
   },
   {
    "duration": 17,
    "start_time": "2022-04-13T12:58:44.250Z"
   },
   {
    "duration": 51,
    "start_time": "2022-04-13T12:58:44.269Z"
   },
   {
    "duration": 38,
    "start_time": "2022-04-13T12:58:44.325Z"
   },
   {
    "duration": 65,
    "start_time": "2022-04-13T12:58:44.365Z"
   },
   {
    "duration": 11,
    "start_time": "2022-04-13T12:58:44.433Z"
   },
   {
    "duration": 16,
    "start_time": "2022-04-13T12:58:44.446Z"
   },
   {
    "duration": 13,
    "start_time": "2022-04-13T12:58:44.463Z"
   },
   {
    "duration": 942,
    "start_time": "2022-04-13T12:58:44.478Z"
   },
   {
    "duration": 309,
    "start_time": "2022-04-13T12:58:45.421Z"
   },
   {
    "duration": 248,
    "start_time": "2022-04-13T12:58:45.732Z"
   },
   {
    "duration": 341,
    "start_time": "2022-04-13T12:58:45.982Z"
   },
   {
    "duration": 206,
    "start_time": "2022-04-13T12:58:46.325Z"
   },
   {
    "duration": 297,
    "start_time": "2022-04-13T12:58:46.532Z"
   },
   {
    "duration": 17,
    "start_time": "2022-04-13T12:58:46.831Z"
   },
   {
    "duration": 160,
    "start_time": "2022-04-13T12:58:46.850Z"
   },
   {
    "duration": 150,
    "start_time": "2022-04-13T12:58:47.012Z"
   },
   {
    "duration": 5,
    "start_time": "2022-04-13T12:58:47.164Z"
   },
   {
    "duration": 14,
    "start_time": "2022-04-13T12:58:47.171Z"
   },
   {
    "duration": 167,
    "start_time": "2022-04-13T12:58:47.187Z"
   },
   {
    "duration": 6,
    "start_time": "2022-04-13T12:58:47.356Z"
   },
   {
    "duration": 9,
    "start_time": "2022-04-13T12:58:47.365Z"
   },
   {
    "duration": 492,
    "start_time": "2022-04-13T12:58:47.375Z"
   },
   {
    "duration": 15,
    "start_time": "2022-04-13T12:58:47.869Z"
   },
   {
    "duration": 10,
    "start_time": "2022-04-13T12:58:47.886Z"
   },
   {
    "duration": 35,
    "start_time": "2022-04-13T12:58:47.919Z"
   },
   {
    "duration": 19,
    "start_time": "2022-04-13T12:58:47.957Z"
   },
   {
    "duration": 72,
    "start_time": "2022-04-14T05:34:06.899Z"
   },
   {
    "duration": 113,
    "start_time": "2022-04-14T05:34:59.709Z"
   },
   {
    "duration": 97,
    "start_time": "2022-04-14T05:38:29.573Z"
   }
  ],
  "kernelspec": {
   "display_name": "Python 3 (ipykernel)",
   "language": "python",
   "name": "python3"
  },
  "language_info": {
   "codemirror_mode": {
    "name": "ipython",
    "version": 3
   },
   "file_extension": ".py",
   "mimetype": "text/x-python",
   "name": "python",
   "nbconvert_exporter": "python",
   "pygments_lexer": "ipython3",
   "version": "3.9.12"
  },
  "toc": {
   "base_numbering": 1,
   "nav_menu": {},
   "number_sections": true,
   "sideBar": true,
   "skip_h1_title": true,
   "title_cell": "Table of Contents",
   "title_sidebar": "Contents",
   "toc_cell": false,
   "toc_position": {
    "height": "calc(100% - 180px)",
    "left": "10px",
    "top": "150px",
    "width": "165px"
   },
   "toc_section_display": true,
   "toc_window_display": true
  }
 },
 "nbformat": 4,
 "nbformat_minor": 2
}
